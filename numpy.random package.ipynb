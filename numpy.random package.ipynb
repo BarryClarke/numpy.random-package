{
 "cells": [
  {
   "cell_type": "markdown",
   "metadata": {},
   "source": [
    "# <center><font color = \"blue\"> The numpy.random package </font></center>\n",
    "![Random](Images/Random.PNG)\n",
    "### <center><font color = \"green\"> Author: Barry Clarke </font></center>\n",
    "### <center><font color = \"green\"> Course: Programming for Data Analysis (Sept 2019) </font></center>"
   ]
  },
  {
   "cell_type": "markdown",
   "metadata": {},
   "source": [
    "### Random numbers"
   ]
  },
  {
   "cell_type": "markdown",
   "metadata": {},
   "source": [
    "Random numbers are as important in computers as in life. In life, we very often \"flip a coin\" or \"roll a dice\" to determine many things. Many decisions are made by lottery. In fact, the National Lottery itself is a game of chance, where randomness is required. Similarly in computers, random numbers have great importance. Computer games, gambling, and in recent years, cryptocurrencies all require computers to generate random numbers.[1] Because a computer is ultimately a deterministic thing, it cannot generate truly random numbers. Instead it uses an algorithm to generate Pseudorandom numbers."
   ]
  },
  {
   "cell_type": "markdown",
   "metadata": {},
   "source": [
    "### Description and purpose of the numpy.random package"
   ]
  },
  {
   "cell_type": "markdown",
   "metadata": {},
   "source": [
    "numpy.random package is a sub-package within the NumPy package used for generating pseudorandom numbers. In creating these, it uses a <font color = \"blue\">BitGenerator</font> to create random numbers, and a <font color = \"blue\">Generator</font> to transform sequences of random numbers from a BitGenerator into sequences of numbers that follow a specific probability distribution(Uniform, Normal, Gaussian, etc) [2]<br> Within the numpy.random package, the options for generating many different random items with many different distributions are contained. The following link details all the options within the package [numpy.random package](https://docs.scipy.org/doc/numpy-1.16.1/reference/routines.random.html)[3]. Also, each of the sub headings below is a link to that particular function definition, parameter details and output. "
   ]
  },
  {
   "cell_type": "markdown",
   "metadata": {},
   "source": [
    "### Simple random data"
   ]
  },
  {
   "cell_type": "code",
   "execution_count": 1,
   "metadata": {},
   "outputs": [],
   "source": [
    "## Load the numpy library required for this notebook\n",
    "import numpy as np\n",
    "import pandas as pd\n",
    "import matplotlib.pyplot as plt"
   ]
  },
  {
   "cell_type": "markdown",
   "metadata": {},
   "source": [
    "#### [numpy.random.<font color = 'red'>rand</font>()](https://docs.scipy.org/doc/numpy-1.16.1/reference/generated/numpy.random.rand.html#numpy.random.rand)"
   ]
  },
  {
   "cell_type": "code",
   "execution_count": 2,
   "metadata": {},
   "outputs": [
    {
     "data": {
      "text/plain": [
       "0.03706260457730115"
      ]
     },
     "execution_count": 2,
     "metadata": {},
     "output_type": "execute_result"
    }
   ],
   "source": [
    "# To produce a random float in the range [0, 1) with unifrom distribution\n",
    "np.random.rand()"
   ]
  },
  {
   "cell_type": "code",
   "execution_count": 3,
   "metadata": {},
   "outputs": [
    {
     "data": {
      "text/plain": [
       "array([[0.09016273, 0.76592863],\n",
       "       [0.70810403, 0.01981064],\n",
       "       [0.10827025, 0.21298608]])"
      ]
     },
     "execution_count": 3,
     "metadata": {},
     "output_type": "execute_result"
    }
   ],
   "source": [
    "# To produce a 2D array (3 rows and 2 columns) of numbers between 0 and 1 with uniform distribution\n",
    "np.random.rand(3, 2)"
   ]
  },
  {
   "cell_type": "code",
   "execution_count": 4,
   "metadata": {
    "scrolled": true
   },
   "outputs": [
    {
     "data": {
      "text/plain": [
       "array([[[0.71841071, 0.95072234],\n",
       "        [0.48934665, 0.5431943 ]],\n",
       "\n",
       "       [[0.18201714, 0.01634983],\n",
       "        [0.9550354 , 0.54648612]],\n",
       "\n",
       "       [[0.70298027, 0.14700233],\n",
       "        [0.28929143, 0.46030796]]])"
      ]
     },
     "execution_count": 4,
     "metadata": {},
     "output_type": "execute_result"
    }
   ],
   "source": [
    "# The function can be further expanded depending on the number of parameters given in the input. Here, and array of 3 \n",
    "# seperate arrays, each containing 2 arrays, with 2 elements in each array.\n",
    "np.random.rand(3, 2, 2)"
   ]
  },
  {
   "cell_type": "markdown",
   "metadata": {},
   "source": [
    "As seen above, the np.random.rand function produces random 'floats' between 0 (exclusive) and 1 (inclusive) in a 'uniform distribution', and depending on what is selected within the round brackets, different array structures are produced. Although the elements are random numbers, everthing else is very rigid and specified ie They are floats, they must be between 0 and 1, and they must be produced with a uniform distribution.<br>\n",
    "With each of the above, there is a range of default input samples from which you select. However,if you want to used any of these fucntions as a basis for your data generation, only in a different range, you can \"shift the goalposts\" of this range by incorporating the function within an equation"
   ]
  },
  {
   "cell_type": "code",
   "execution_count": 5,
   "metadata": {},
   "outputs": [
    {
     "data": {
      "text/plain": [
       "array([0.4907079 , 0.75612761, 0.71620117, 0.56717727, 0.1788102 ])"
      ]
     },
     "execution_count": 5,
     "metadata": {},
     "output_type": "execute_result"
    }
   ],
   "source": [
    "# produce an array of 5 random floats between [0, 1) with uniform distribution\n",
    "np.random.rand(5)"
   ]
  },
  {
   "cell_type": "code",
   "execution_count": 6,
   "metadata": {},
   "outputs": [
    {
     "data": {
      "text/plain": [
       "array([3.84400445, 3.06501525, 3.50600419, 3.73132727, 3.95398626])"
      ]
     },
     "execution_count": 6,
     "metadata": {},
     "output_type": "execute_result"
    }
   ],
   "source": [
    "# produce an array of 5 random floats between [3, 4) with uniform distribution\n",
    "np.random.rand(5) + 3"
   ]
  },
  {
   "cell_type": "code",
   "execution_count": 7,
   "metadata": {
    "scrolled": true
   },
   "outputs": [
    {
     "data": {
      "text/plain": [
       "array([[1.36479329, 3.70693847],\n",
       "       [4.5908645 , 0.1477589 ],\n",
       "       [3.16351043, 2.5550859 ],\n",
       "       [4.44969713, 0.82728234],\n",
       "       [3.44139802, 2.40396157]])"
      ]
     },
     "execution_count": 7,
     "metadata": {},
     "output_type": "execute_result"
    }
   ],
   "source": [
    "# Produce a 2D array of 5 rows, 2 columns of random floats between [0, 5) with uniform distribution\n",
    "5 * np.random.rand(5, 2)"
   ]
  },
  {
   "cell_type": "code",
   "execution_count": 8,
   "metadata": {},
   "outputs": [
    {
     "data": {
      "image/png": "[encoded data removed]",
      "text/plain": [
       "<Figure size 1152x576 with 3 Axes>"
      ]
     },
     "metadata": {
      "needs_background": "light"
     },
     "output_type": "display_data"
    }
   ],
   "source": [
    "# Produce histograms of the above 3 functions, to see the graphical results for each\n",
    "# produce an array of 1000 random floats between [0, 1) with uniform distribution\n",
    "x = np.random.rand(1000)\n",
    "# roduce an array of 1000 random floats between [3, 4) with uniform distribution\n",
    "y = np.random.rand(1000) +3\n",
    "# Produce a 2D array of 500 rows, 2 columns of random floats between [0, 5) with uniform distribution\n",
    "z = 5 * np.random.rand(500, 2)\n",
    "# Plot the results of each, by histogram, side by side for comparison\n",
    "plt.rcParams['figure.figsize'] = (16,8)\n",
    "plt.subplot(1,3,1)\n",
    "plt.hist(x)\n",
    "plt.title('np.random.rand(1000)', size=20)\n",
    "plt.xlabel('Element value', size=15)\n",
    "plt.ylabel('Number of elements', size=15)\n",
    "\n",
    "plt.subplot(1,3,2)\n",
    "plt.hist(y)\n",
    "plt.title('np.random.randn(1000) + 3', size=20)\n",
    "plt.xlabel('Element value', size=15)\n",
    "plt.ylabel('Number of elements', size=15)\n",
    "\n",
    "plt.subplot(1,3,3)\n",
    "plt.hist(z)\n",
    "plt.title('5 * np.random.randn(1000)', size=20)\n",
    "plt.xlabel('Element value', size=15)\n",
    "plt.ylabel('Number of elements', size=15)\n",
    "\n",
    "plt.show()"
   ]
  },
  {
   "cell_type": "markdown",
   "metadata": {},
   "source": [
    "Things to note in the above plots are the differences in the x-axis, reflecting how the simple numpy.random function can be manipulated to change the range. The type of distribution cannot be changed - To do this we must use another function with the numpy.random package"
   ]
  },
  {
   "cell_type": "markdown",
   "metadata": {},
   "source": [
    "#### [numpy.random.<font color = 'red'>randn</font>()](https://docs.scipy.org/doc/numpy-1.16.1/reference/generated/numpy.random.randn.html#numpy.random.randn)"
   ]
  },
  {
   "cell_type": "markdown",
   "metadata": {},
   "source": [
    "The 'randn' function returns random floats of 'normal' (Gaussian) distribution of mean 0 and variance 1.<br>\n",
    "<font color = 'red'>Note:</font> the Variance of 1 does NOT mean a value of 1, rather it is the expectation of the squared deviation of a random variable from the mean from its mean"
   ]
  },
  {
   "cell_type": "code",
   "execution_count": 9,
   "metadata": {},
   "outputs": [
    {
     "data": {
      "text/plain": [
       "array([-0.45778838, -0.2480191 , -1.86300104,  1.5982857 , -0.80019161])"
      ]
     },
     "execution_count": 9,
     "metadata": {},
     "output_type": "execute_result"
    }
   ],
   "source": [
    "# produce an array of 5 random floats between of mean 0 and variance 1, with normal distribution\n",
    "np.random.randn(5)"
   ]
  },
  {
   "cell_type": "code",
   "execution_count": 10,
   "metadata": {},
   "outputs": [
    {
     "data": {
      "text/plain": [
       "array([[-0.34360439,  1.16119327],\n",
       "       [-0.60335031, -0.15362639],\n",
       "       [-1.54249819, -2.52225934]])"
      ]
     },
     "execution_count": 10,
     "metadata": {},
     "output_type": "execute_result"
    }
   ],
   "source": [
    "np.random.randn(3,2)"
   ]
  },
  {
   "cell_type": "markdown",
   "metadata": {},
   "source": [
    "<font color = red>Note:</font> The difference between a uniform distribution and a normal (gaussian) distribution is best illustrated using a plot"
   ]
  },
  {
   "cell_type": "code",
   "execution_count": 11,
   "metadata": {
    "scrolled": false
   },
   "outputs": [
    {
     "data": {
      "image/png": "[encoded data removed]",
      "text/plain": [
       "<Figure size 1152x576 with 2 Axes>"
      ]
     },
     "metadata": {
      "needs_background": "light"
     },
     "output_type": "display_data"
    }
   ],
   "source": [
    "# Select 1000 random samples using the rand function\n",
    "x = np.random.rand(1000)\n",
    "# Produce 1000 random samples using the randn function\n",
    "y = np.random.randn(1000)\n",
    "# Plot the results of each, by histogram, side by side for comparison\n",
    "plt.rcParams['figure.figsize'] = (16,8)\n",
    "plt.subplot(1,2,1)\n",
    "plt.hist(x)\n",
    "plt.title('np.random.rand(1000) - Uniform distribution', size=20)\n",
    "plt.xlabel('Element value', size=15)\n",
    "plt.ylabel('Number of elements', size=15)\n",
    "\n",
    "plt.subplot(1,2,2)\n",
    "plt.hist(y)\n",
    "plt.title('np.random.randn(1000) - Normal distribution', size=20)\n",
    "plt.xlabel('Element value', size=15)\n",
    "plt.ylabel('Number of elements', size=15)\n",
    "\n",
    "plt.show()"
   ]
  },
  {
   "cell_type": "markdown",
   "metadata": {},
   "source": [
    "Comparing the above distributions, we see that a uniform distribution roughly produces and equal number of elements at all values across the range, whereas a normal (Gaussian) distribution produces a bell shaped distribution of elements. This highlights two of the basic distributions you can generate for random data you require. What is important to remember is that, as data scientist, you will want to generate random data with specific distributions to best match the analsyis/developmen you are doing. Knowing the different distribution to use for your purpose is an important tool."
   ]
  },
  {
   "cell_type": "code",
   "execution_count": 12,
   "metadata": {},
   "outputs": [
    {
     "data": {
      "image/png": "[encoded data removed]",
      "text/plain": [
       "<Figure size 1152x576 with 3 Axes>"
      ]
     },
     "metadata": {
      "needs_background": "light"
     },
     "output_type": "display_data"
    }
   ],
   "source": [
    "# Here we will show how the randn function can be manipluated\n",
    "# Produce 1000 random samples using the randn function\n",
    "x = np.random.randn(1000)\n",
    "# Produce 1000 random samples using the randn function but with range expanded 5 times\n",
    "y = 5 * np.random.randn(1000)\n",
    "# Produce 1000 random samples using the randn function but with the mean of the range shifted by +3\n",
    "z  = np.random.randn(1000) + 3\n",
    "# Plot the results of each, by histogram, side by side for comparison\n",
    "plt.rcParams['figure.figsize'] = (16,8)\n",
    "plt.subplot(1,3,1)\n",
    "plt.hist(x)\n",
    "plt.title('np.random.randn(1000)', size=20)\n",
    "plt.xlabel('Element value', size=15)\n",
    "plt.ylabel('Number of elements', size=15)\n",
    "\n",
    "plt.subplot(1,3,2)\n",
    "plt.hist(y)\n",
    "plt.title('5 * np.random.randn(1000)', size=20)\n",
    "plt.xlabel('Element value', size=15)\n",
    "plt.ylabel('Number of elements', size=15)\n",
    "\n",
    "plt.subplot(1,3,3)\n",
    "plt.hist(z)\n",
    "plt.title('np.random.randn(1000) + 3', size=20)\n",
    "plt.xlabel('Element value', size=15)\n",
    "plt.ylabel('Number of elements', size=15)\n",
    "\n",
    "plt.show()"
   ]
  },
  {
   "cell_type": "markdown",
   "metadata": {},
   "source": [
    "In the same way as with numpy.random.rand(), the range can be shifted and expanded"
   ]
  },
  {
   "cell_type": "markdown",
   "metadata": {},
   "source": [
    "#### [numpy.random.<font color = 'red'>randint</font>()](https://docs.scipy.org/doc/numpy-1.16.1/reference/generated/numpy.random.randint.html#numpy.random.randint)"
   ]
  },
  {
   "cell_type": "markdown",
   "metadata": {},
   "source": [
    "If somebody asked how could you simulate the results from 20 rolls of a dice, we could use the randint function, as below"
   ]
  },
  {
   "cell_type": "code",
   "execution_count": 13,
   "metadata": {},
   "outputs": [
    {
     "data": {
      "text/plain": [
       "array([1, 5, 5, 5, 6, 4, 1, 1, 5, 2, 1, 5, 1, 2, 3, 4, 2, 4, 1, 5])"
      ]
     },
     "execution_count": 13,
     "metadata": {},
     "output_type": "execute_result"
    }
   ],
   "source": [
    "# Select an integer between 1 and 6 inclusve 20 times\n",
    "# Note: the randint function parameters are what is caled \"half open\" ie [low, high) or low inclusive, high exclusive\n",
    "np.random.randint(1, 7, size=20)"
   ]
  },
  {
   "cell_type": "code",
   "execution_count": 14,
   "metadata": {},
   "outputs": [
    {
     "data": {
      "text/plain": [
       "array([ 8, 24, 12,  6, 30,  2, 24, 15, 18, 25,  4,  6,  6, 18,  5, 24, 18,\n",
       "       12, 16, 18])"
      ]
     },
     "execution_count": 14,
     "metadata": {},
     "output_type": "execute_result"
    }
   ],
   "source": [
    "# Simulate the results that might be achieved from rolling two dice twenty times and multiplying the result each time\n",
    "(np.random.randint(1, 7, size=20))*(np.random.randint(1, 7, size=20))"
   ]
  },
  {
   "cell_type": "code",
   "execution_count": 15,
   "metadata": {
    "scrolled": true
   },
   "outputs": [
    {
     "data": {
      "text/plain": [
       "array([[2, 6, 6, 2],\n",
       "       [3, 2, 6, 4],\n",
       "       [6, 3, 6, 4],\n",
       "       [6, 5, 3, 2],\n",
       "       [5, 3, 4, 1]])"
      ]
     },
     "execution_count": 15,
     "metadata": {},
     "output_type": "execute_result"
    }
   ],
   "source": [
    "# Instead of rolling 1 dice 20 times, simulate the results from rolling 4 dice 5 times, displaying the results from all 4\n",
    "# dice each roll\n",
    "np.random.randint(1,7,size=(5,4))"
   ]
  },
  {
   "cell_type": "markdown",
   "metadata": {},
   "source": [
    "<font color = 'red'>Note:</font> Declaring the high value in this function is not compulsory, only the low value is. When this\n",
    "occurs, the output will be between [0,low) ie between 0 inclusive and High exclusive. Example below"
   ]
  },
  {
   "cell_type": "code",
   "execution_count": 16,
   "metadata": {},
   "outputs": [
    {
     "data": {
      "text/plain": [
       "array([1, 2, 2, 1, 2, 3, 1, 0, 3, 3])"
      ]
     },
     "execution_count": 16,
     "metadata": {},
     "output_type": "execute_result"
    }
   ],
   "source": [
    "# Select a random integer, 10 times, between 1 and 4 inclusive\n",
    "np.random.randint(4, size=10)"
   ]
  },
  {
   "cell_type": "markdown",
   "metadata": {},
   "source": [
    "#### [numpy.random.<font color = 'red'>random_sample</font>()](https://docs.scipy.org/doc/numpy-1.16.1/reference/generated/numpy.random.random_sample.html#numpy.random.random_sample)"
   ]
  },
  {
   "cell_type": "markdown",
   "metadata": {},
   "source": [
    "Earlier we saw how the rand() function can be used as a basis and manipulated to shift and/or expand the range of distribution, but the rand() function can only do this in  limited ways. For example, if we wanted to Produce a 2D array of 5 rows, 2 columns of random floats between [-10, -5) with uniform distribution:"
   ]
  },
  {
   "cell_type": "code",
   "execution_count": 17,
   "metadata": {},
   "outputs": [
    {
     "data": {
      "text/plain": [
       "array([[-7.09113773, -9.84414008],\n",
       "       [-5.77639305, -6.0144976 ],\n",
       "       [-9.88724575, -7.82680166],\n",
       "       [-8.03055488, -6.25440956],\n",
       "       [-6.07587024, -9.1099747 ]])"
      ]
     },
     "execution_count": 17,
     "metadata": {},
     "output_type": "execute_result"
    }
   ],
   "source": [
    "# Produce a 2D array of 5 rows, 2 columns of random floats between [-10, -5) with uniform distribution\n",
    "5 * np.random.rand(5, 2) - 10"
   ]
  },
  {
   "cell_type": "markdown",
   "metadata": {},
   "source": [
    "However, if we required a range where the low and high values were not equal measurements from the [0.0, 1.0) of the rand distribution, rand() is no longer of use. For example, Produce a 2D array of 5 rows, 2 columns of random floats between [-75, 25) with uniform distribution. For this type of random data request we use the numpy.random.<font color = 'red'>random_sample</font>() function"
   ]
  },
  {
   "cell_type": "code",
   "execution_count": 18,
   "metadata": {
    "scrolled": true
   },
   "outputs": [
    {
     "data": {
      "text/plain": [
       "array([[-41.17604131, -15.55514297],\n",
       "       [  2.33782138, -61.14915755],\n",
       "       [  6.30086791, -72.18957601],\n",
       "       [-52.44076472,  -1.29072448],\n",
       "       [  5.49866746, -17.21295402]])"
      ]
     },
     "execution_count": 18,
     "metadata": {},
     "output_type": "execute_result"
    }
   ],
   "source": [
    "# Produce a 2D array of 5 rows, 2 columns of random floats between [-75, 25) with uniform distribution\n",
    "# Use the random sample function\n",
    "# For [a, b) where b>a, use the following (b - a) * numpy.random.random_sample() + a\n",
    "100 * np.random.random_sample((5, 2)) -75"
   ]
  },
  {
   "cell_type": "markdown",
   "metadata": {},
   "source": [
    "<font color = red>Note:</font> random_sample can also be referred to as random, ranf or sample"
   ]
  },
  {
   "cell_type": "markdown",
   "metadata": {},
   "source": [
    "#### [numpy.random.<font color = 'red'>choice</font>()](https://docs.scipy.org/doc/numpy-1.16.1/reference/generated/numpy.random.choice.html#numpy.random.choice)"
   ]
  },
  {
   "cell_type": "markdown",
   "metadata": {},
   "source": [
    "## <center><font color = 'green'> let's</font><font color = 'blue'> play</font><font color = 'red'> LOTTO!!!</font></center>\n",
    "![Lottery](Images/Lottery.PNG)"
   ]
  },
  {
   "cell_type": "markdown",
   "metadata": {},
   "source": [
    "The <font color = 'red'>random.choice</font>() function is an ideal function to use to simulate the lottery results. The Irish National Lottery has 47 (numbered 1 -47) numbers in it. Each draw has 6 numbers drawn, along with 2 bonus numbers, so 8 in total. Each ball has an equal chance at being drawn, but once it is drawn, it is not replaced back in the drum, so cannot be re-drawn in that draw. We can simulate these results on a computer by using the choice function"
   ]
  },
  {
   "cell_type": "markdown",
   "metadata": {},
   "source": [
    "<font color = red>Note:</font> In the above example, 1 is selected twice in the output. This is because, even after being randomly selected, by default this returns it to the input sample. If you wish to omit this from the input sample once it is selected, you make use of the replace parameter "
   ]
  },
  {
   "cell_type": "code",
   "execution_count": 19,
   "metadata": {},
   "outputs": [
    {
     "data": {
      "text/plain": [
       "array([ 1,  2,  3,  4,  5,  6,  7,  8,  9, 10, 11, 12, 13, 14, 15, 16, 17,\n",
       "       18, 19, 20, 21, 22, 23, 24, 25, 26, 27, 28, 29, 30, 31, 32, 33, 34,\n",
       "       35, 36, 37, 38, 39, 40, 41, 42, 43, 44, 45, 46, 47])"
      ]
     },
     "execution_count": 19,
     "metadata": {},
     "output_type": "execute_result"
    }
   ],
   "source": [
    "# List all the numbers at the start of the lottery draw\n",
    "lotto = np.arange(1,48)\n",
    "lotto"
   ]
  },
  {
   "cell_type": "code",
   "execution_count": 20,
   "metadata": {},
   "outputs": [
    {
     "data": {
      "text/plain": [
       "array([35, 47, 41, 20, 15,  8, 39,  5])"
      ]
     },
     "execution_count": 20,
     "metadata": {},
     "output_type": "execute_result"
    }
   ],
   "source": [
    "# Simulate the lottery results from 1 draw, including the 2 bonus numbers.[4] \n",
    "np.random.choice(lotto, 8, replace=False)"
   ]
  },
  {
   "cell_type": "markdown",
   "metadata": {},
   "source": [
    "## <center><font color = 'red'> let's play cards!!!</font></center>\n",
    "![deck_of_cards](Images/deck_of_cards.PNG)\n",
    "Another use for the random.choice() function would be to simulate a card game"
   ]
  },
  {
   "cell_type": "code",
   "execution_count": 21,
   "metadata": {},
   "outputs": [
    {
     "data": {
      "text/plain": [
       "array([['10 of Diamonds', '3 of Hearts', '9 of Spades',\n",
       "        'Queen of Diamonds', '3 of Spades'],\n",
       "       ['2 of Spades', 'Jack of Diamonds', '3 of Diamonds',\n",
       "        'Queen of Spades', '2 of Clubs'],\n",
       "       ['7 of Spades', '10 of Hearts', 'Jack of Clubs', '5 of Hearts',\n",
       "        'Jack of Spades'],\n",
       "       ['8 of Spades', '10 of Spades', '6 of Hearts', '5 of Clubs',\n",
       "        'Ace of Clubs']], dtype='<U17')"
      ]
     },
     "execution_count": 21,
     "metadata": {},
     "output_type": "execute_result"
    }
   ],
   "source": [
    "# List of all cards in a single deck\n",
    "values = ['2 of Hearts', '3 of Hearts','4 of Hearts','5 of Hearts','6 of Hearts','7 of Hearts','8 of Hearts','9 of Hearts',\n",
    "         '10 of Hearts','Jack of Hearts','Queen of Hearts','King of Hearts','Ace of Hearts', '2 of Clubs','3 of Clubs',\n",
    "          '4 of Clubs','5 of Clubs','6 of Clubs','7 of Clubs','8 of Clubs','9 of Clubs','10 of Clubs','Jack of Clubs',\n",
    "          'Queen of Clubs','King of Clubs','Ace of Clubs', '2 of Diamonds','3 of Diamonds','4 of Diamonds','5 of Diamonds',\n",
    "          '6 of Diamonds','7 of Diamonds','8 of Diamonds','9 of Diamonds','10 of Diamonds','Jack of Diamonds',\n",
    "          'Queen of Diamonds','King of Diamonds','Ace of Diamonds', '2 of Spades','3 of Spades','4 of Spades','5 of Spades',\n",
    "          '6 of Spades','7 of Spades','8 of Spades','9 of Spades','10 of Spades','Jack of Spades','Queen of Spades',\n",
    "          'King of Spades','Ace of Spades']\n",
    "# Deal 5 cards to 4 players\n",
    "np.random.choice(values, (4,5), replace=False)"
   ]
  },
  {
   "cell_type": "markdown",
   "metadata": {},
   "source": [
    "### permutations"
   ]
  },
  {
   "cell_type": "markdown",
   "metadata": {},
   "source": [
    "#### [numpy.random.<font color = 'red'>shuffle</font>()](https://docs.scipy.org/doc/numpy-1.16.1/reference/generated/numpy.random.shuffle.html#numpy.random.shuffle)"
   ]
  },
  {
   "cell_type": "markdown",
   "metadata": {},
   "source": [
    "Take the above example of a deck of cards. In reality, the dealer always shuffles the deck of cards to ensure the chances/odds of previous hand of cards is not dealt again. We can simulate this on the computer by using the shuffle function. Let's assume we have a new deck of cards just out of the box. The cards will be neatly arranged in the below order. "
   ]
  },
  {
   "cell_type": "code",
   "execution_count": 22,
   "metadata": {
    "scrolled": false
   },
   "outputs": [
    {
     "data": {
      "text/plain": [
       "['2 of Hearts',\n",
       " '3 of Hearts',\n",
       " '4 of Hearts',\n",
       " '5 of Hearts',\n",
       " '6 of Hearts',\n",
       " '7 of Hearts',\n",
       " '8 of Hearts',\n",
       " '9 of Hearts',\n",
       " '10 of Hearts',\n",
       " 'Jack of Hearts',\n",
       " 'Queen of Hearts',\n",
       " 'King of Hearts',\n",
       " 'Ace of Hearts',\n",
       " '2 of Clubs',\n",
       " '3 of Clubs',\n",
       " '4 of Clubs',\n",
       " '5 of Clubs',\n",
       " '6 of Clubs',\n",
       " '7 of Clubs',\n",
       " '8 of Clubs',\n",
       " '9 of Clubs',\n",
       " '10 of Clubs',\n",
       " 'Jack of Clubs',\n",
       " 'Queen of Clubs',\n",
       " 'King of Clubs',\n",
       " 'Ace of Clubs',\n",
       " '2 of Diamonds',\n",
       " '3 of Diamonds',\n",
       " '4 of Diamonds',\n",
       " '5 of Diamonds',\n",
       " '6 of Diamonds',\n",
       " '7 of Diamonds',\n",
       " '8 of Diamonds',\n",
       " '9 of Diamonds',\n",
       " '10 of Diamonds',\n",
       " 'Jack of Diamonds',\n",
       " 'Queen of Diamonds',\n",
       " 'King of Diamonds',\n",
       " 'Ace of Diamonds',\n",
       " '2 of Spades',\n",
       " '3 of Spades',\n",
       " '4 of Spades',\n",
       " '5 of Spades',\n",
       " '6 of Spades',\n",
       " '7 of Spades',\n",
       " '8 of Spades',\n",
       " '9 of Spades',\n",
       " '10 of Spades',\n",
       " 'Jack of Spades',\n",
       " 'Queen of Spades',\n",
       " 'King of Spades',\n",
       " 'Ace of Spades']"
      ]
     },
     "execution_count": 22,
     "metadata": {},
     "output_type": "execute_result"
    }
   ],
   "source": [
    "# List of all cards in a single deck\n",
    "values = ['2 of Hearts', '3 of Hearts','4 of Hearts','5 of Hearts','6 of Hearts','7 of Hearts','8 of Hearts','9 of Hearts',\n",
    "         '10 of Hearts','Jack of Hearts','Queen of Hearts','King of Hearts','Ace of Hearts', '2 of Clubs','3 of Clubs',\n",
    "          '4 of Clubs','5 of Clubs','6 of Clubs','7 of Clubs','8 of Clubs','9 of Clubs','10 of Clubs','Jack of Clubs',\n",
    "          'Queen of Clubs','King of Clubs','Ace of Clubs', '2 of Diamonds','3 of Diamonds','4 of Diamonds','5 of Diamonds',\n",
    "          '6 of Diamonds','7 of Diamonds','8 of Diamonds','9 of Diamonds','10 of Diamonds','Jack of Diamonds',\n",
    "          'Queen of Diamonds','King of Diamonds','Ace of Diamonds', '2 of Spades','3 of Spades','4 of Spades','5 of Spades',\n",
    "          '6 of Spades','7 of Spades','8 of Spades','9 of Spades','10 of Spades','Jack of Spades','Queen of Spades',\n",
    "          'King of Spades','Ace of Spades']\n",
    "values"
   ]
  },
  {
   "cell_type": "markdown",
   "metadata": {},
   "source": [
    "Now, let's shuffle these cards so that they are arranged in a random order"
   ]
  },
  {
   "cell_type": "code",
   "execution_count": 23,
   "metadata": {},
   "outputs": [
    {
     "data": {
      "text/plain": [
       "['3 of Hearts',\n",
       " '6 of Clubs',\n",
       " '6 of Diamonds',\n",
       " '7 of Hearts',\n",
       " '2 of Hearts',\n",
       " 'Queen of Diamonds',\n",
       " 'King of Clubs',\n",
       " '7 of Spades',\n",
       " '3 of Clubs',\n",
       " 'Jack of Hearts',\n",
       " 'Queen of Hearts',\n",
       " '3 of Diamonds',\n",
       " '6 of Hearts',\n",
       " '5 of Diamonds',\n",
       " '9 of Hearts',\n",
       " '4 of Hearts',\n",
       " '8 of Clubs',\n",
       " '8 of Hearts',\n",
       " '4 of Diamonds',\n",
       " 'Ace of Diamonds',\n",
       " 'Queen of Spades',\n",
       " '7 of Diamonds',\n",
       " 'Ace of Spades',\n",
       " 'Ace of Clubs',\n",
       " '2 of Diamonds',\n",
       " 'Queen of Clubs',\n",
       " '9 of Spades',\n",
       " '8 of Spades',\n",
       " '8 of Diamonds',\n",
       " '4 of Spades',\n",
       " '5 of Spades',\n",
       " '4 of Clubs',\n",
       " '9 of Diamonds',\n",
       " '7 of Clubs',\n",
       " '10 of Diamonds',\n",
       " '9 of Clubs',\n",
       " '2 of Spades',\n",
       " 'King of Diamonds',\n",
       " 'Jack of Diamonds',\n",
       " '10 of Clubs',\n",
       " 'King of Spades',\n",
       " 'King of Hearts',\n",
       " '10 of Hearts',\n",
       " 'Jack of Clubs',\n",
       " 'Ace of Hearts',\n",
       " '6 of Spades',\n",
       " 'Jack of Spades',\n",
       " '10 of Spades',\n",
       " '5 of Clubs',\n",
       " '5 of Hearts',\n",
       " '3 of Spades',\n",
       " '2 of Clubs']"
      ]
     },
     "execution_count": 23,
     "metadata": {},
     "output_type": "execute_result"
    }
   ],
   "source": [
    "# Shuffled the contents of the array 'values'\n",
    "np.random.shuffle(values)\n",
    "values"
   ]
  },
  {
   "cell_type": "markdown",
   "metadata": {},
   "source": [
    "#### [numpy.random.<font color = 'red'>permutation</font>()](https://docs.scipy.org/doc/numpy-1.16.1/reference/generated/numpy.random.permutation.html#numpy.random.permutation)"
   ]
  },
  {
   "cell_type": "markdown",
   "metadata": {},
   "source": [
    "The numpy.random.permutation() function does a very similar job to numpy.random.shuffle(), with two small differences:[5]<br>\n",
    "   1. <span style=\"text-decoration: underline\">If passed an array, it will return a shuffled **copy** of the array; np.random.shuffle shuffles the array in place</span>"
   ]
  },
  {
   "cell_type": "code",
   "execution_count": 24,
   "metadata": {},
   "outputs": [
    {
     "data": {
      "text/plain": [
       "array([0, 1, 2, 3, 4, 5, 6, 7, 8, 9])"
      ]
     },
     "execution_count": 24,
     "metadata": {},
     "output_type": "execute_result"
    }
   ],
   "source": [
    "# Create a 1D array in the range 10\n",
    "arr = np.arange(10)\n",
    "arr"
   ]
  },
  {
   "cell_type": "code",
   "execution_count": 25,
   "metadata": {},
   "outputs": [
    {
     "data": {
      "text/plain": [
       "array([4, 5, 6, 1, 3, 7, 8, 9, 0, 2])"
      ]
     },
     "execution_count": 25,
     "metadata": {},
     "output_type": "execute_result"
    }
   ],
   "source": [
    "# shuffle this array\n",
    "np.random.shuffle(arr)\n",
    "arr"
   ]
  },
  {
   "cell_type": "markdown",
   "metadata": {},
   "source": [
    "When shuffle is used, the array is shuufled in place, hence the original array is lost for future use"
   ]
  },
  {
   "cell_type": "code",
   "execution_count": 26,
   "metadata": {},
   "outputs": [
    {
     "data": {
      "text/plain": [
       "array([0, 1, 2, 3, 4, 5, 6, 7, 8, 9])"
      ]
     },
     "execution_count": 26,
     "metadata": {},
     "output_type": "execute_result"
    }
   ],
   "source": [
    "# Create a 1D array in the range 10\n",
    "arr = np.arange(10)\n",
    "arr"
   ]
  },
  {
   "cell_type": "code",
   "execution_count": 27,
   "metadata": {},
   "outputs": [
    {
     "data": {
      "text/plain": [
       "array([3, 4, 6, 1, 7, 8, 2, 0, 9, 5])"
      ]
     },
     "execution_count": 27,
     "metadata": {},
     "output_type": "execute_result"
    }
   ],
   "source": [
    "# permute the array\n",
    "np.random.permutation(arr)"
   ]
  },
  {
   "cell_type": "code",
   "execution_count": 28,
   "metadata": {},
   "outputs": [
    {
     "data": {
      "text/plain": [
       "array([0, 1, 2, 3, 4, 5, 6, 7, 8, 9])"
      ]
     },
     "execution_count": 28,
     "metadata": {},
     "output_type": "execute_result"
    }
   ],
   "source": [
    "arr"
   ]
  },
  {
   "cell_type": "markdown",
   "metadata": {},
   "source": [
    "When permutation is used, a **copy** of the array is shuffled ad returned, however, the original array is still available"
   ]
  },
  {
   "cell_type": "markdown",
   "metadata": {},
   "source": [
    "2. <span style=\"text-decoration: underline\">If passed an integer, it will return a shuffled range i.e. np.random.shuffle(np.arange(n))</span>"
   ]
  },
  {
   "cell_type": "markdown",
   "metadata": {},
   "source": [
    "You cannot pass an integer into the shuffle function<br>\n",
    "You can pass an integer into the permutation function. If you do, it will return a shuffled range. eg below"
   ]
  },
  {
   "cell_type": "code",
   "execution_count": 29,
   "metadata": {},
   "outputs": [
    {
     "data": {
      "text/plain": [
       "array([9, 2, 6, 1, 5, 3, 4, 0, 8, 7])"
      ]
     },
     "execution_count": 29,
     "metadata": {},
     "output_type": "execute_result"
    }
   ],
   "source": [
    "np.random.permutation(10)"
   ]
  },
  {
   "cell_type": "markdown",
   "metadata": {},
   "source": [
    "<font color = 'red'>Note:</font> It is worth noting that if you have a mmultidimensional array to be shuffled or permuted, it is only shuffled/permuted alog the firt axis. all remaining axis are not shuffled/permuted. Example below"
   ]
  },
  {
   "cell_type": "code",
   "execution_count": 30,
   "metadata": {},
   "outputs": [
    {
     "data": {
      "text/plain": [
       "[array([0, 1, 2, 3, 4, 5, 6, 7, 8, 9]),\n",
       " 'pig',\n",
       " 'Three',\n",
       " 'spider',\n",
       " array([ 0,  1,  2,  3,  4,  5,  6,  7,  8,  9, 10, 11, 12, 13, 14, 15, 16,\n",
       "        17, 18, 19])]"
      ]
     },
     "execution_count": 30,
     "metadata": {},
     "output_type": "execute_result"
    }
   ],
   "source": [
    "# Create a multidimensional array of various element types\n",
    "arr2 = ([np.arange(10), 'pig', 'Three', 'spider', np.arange(20)])\n",
    "arr2"
   ]
  },
  {
   "cell_type": "code",
   "execution_count": 31,
   "metadata": {},
   "outputs": [
    {
     "data": {
      "text/plain": [
       "array(['Three', array([0, 1, 2, 3, 4, 5, 6, 7, 8, 9]),\n",
       "       array([ 0,  1,  2,  3,  4,  5,  6,  7,  8,  9, 10, 11, 12, 13, 14, 15, 16,\n",
       "       17, 18, 19]),\n",
       "       'pig', 'spider'], dtype=object)"
      ]
     },
     "execution_count": 31,
     "metadata": {},
     "output_type": "execute_result"
    }
   ],
   "source": [
    "# Permute the array\n",
    "np.random.permutation(arr2)"
   ]
  },
  {
   "cell_type": "markdown",
   "metadata": {},
   "source": [
    "### Distributions"
   ]
  },
  {
   "cell_type": "markdown",
   "metadata": {},
   "source": [
    "Within statistics there are many different types of distributions, each one being appropriate for specific tasks. For data analytics and data science, it is important to use the correct distribution to the data you are using. Below are some of examples of distributions"
   ]
  },
  {
   "cell_type": "markdown",
   "metadata": {},
   "source": [
    "#### [numpy.random.<font color = 'red'>binomial</font>()](https://docs.scipy.org/doc/numpy-1.16.1/reference/generated/numpy.random.binomial.html#numpy.random.binomial)"
   ]
  },
  {
   "cell_type": "markdown",
   "metadata": {},
   "source": [
    "The binomial distribution is frequently used to model the number of successes in a sample of size n drawn with replacement from a population of size N.[6] Let's use the binomial distribution to discuss Mayo's record in All Ireland football finals. \n",
    "![Mayo](Images/Mayo1.PNG)\n",
    "Please note I am from County Louth, so my data anaylsis on this subject is not meant to offend anybody"
   ]
  },
  {
   "cell_type": "markdown",
   "metadata": {},
   "source": [
    "In any given All-Ireland final, both teams start with the same number of players, with the same understanding of the rules,\n",
    "with the same amount of practice and training in preparation, and with zero points each. From that perspective, each team\n",
    "has a 50% chance of winning"
   ]
  },
  {
   "cell_type": "code",
   "execution_count": 32,
   "metadata": {},
   "outputs": [
    {
     "data": {
      "text/plain": [
       "(array([ 1.,  1., 14., 20., 22., 20., 11.,  6.,  4.,  1.]),\n",
       " array([ 4. ,  4.9,  5.8,  6.7,  7.6,  8.5,  9.4, 10.3, 11.2, 12.1, 13. ]),\n",
       " <a list of 10 Patch objects>)"
      ]
     },
     "execution_count": 32,
     "metadata": {},
     "output_type": "execute_result"
    },
    {
     "data": {
      "image/png": "[encoded data removed]",
      "text/plain": [
       "<Figure size 1152x576 with 1 Axes>"
      ]
     },
     "metadata": {
      "needs_background": "light"
     },
     "output_type": "display_data"
    }
   ],
   "source": [
    "# Simulate the binomial distribution of results for a team to play in 16 finals, with 50% probability of wining in each game\n",
    "# Let's run the simulation 100 times\n",
    "Normal_chances = np.random.binomial(16, 0.5, 100)\n",
    "plt.hist(Normal_chances, color = 'green')"
   ]
  },
  {
   "cell_type": "markdown",
   "metadata": {},
   "source": [
    "Mayo have played in 16 All Ireland football finals,estimated probability of success of 0.5 in each final. They are successful in only 3 finals.[7] What is the probability of 3 or less victories occuring?"
   ]
  },
  {
   "cell_type": "code",
   "execution_count": 33,
   "metadata": {},
   "outputs": [
    {
     "data": {
      "text/plain": [
       "0.01"
      ]
     },
     "execution_count": 33,
     "metadata": {},
     "output_type": "execute_result"
    }
   ],
   "source": [
    "# Let’s do 100 trials of the model, and count the number that generate 3 positive results.\n",
    "sum(np.random.binomial(16, 0.5, 100) <= 3)/100"
   ]
  },
  {
   "cell_type": "markdown",
   "metadata": {},
   "source": [
    "So, giving Mayo a 50% chance in each of their finals, to have only won 3 of the 16 is around a very low (< 5%) chance of occuring. But it has happened."
   ]
  },
  {
   "cell_type": "code",
   "execution_count": 34,
   "metadata": {},
   "outputs": [
    {
     "data": {
      "text/plain": [
       "Text(0, 0.5, 'No of trials')"
      ]
     },
     "execution_count": 34,
     "metadata": {},
     "output_type": "execute_result"
    },
    {
     "data": {
      "image/png": "[encoded data removed]",
      "text/plain": [
       "<Figure size 1152x576 with 1 Axes>"
      ]
     },
     "metadata": {
      "needs_background": "light"
     },
     "output_type": "display_data"
    }
   ],
   "source": [
    "# Using Mayo's winning rate of 3/16 ie 0.1875 we can look at Mayo's binomial distributon of likely wins in the future\n",
    "Mayo_chances = np.random.binomial(16, 0.1875, 100)\n",
    "plt.hist(Mayo_chances, color = 'red')\n",
    "plt.title ('Binomial distribution, n:16, p:0.1875, Size:100')\n",
    "plt.xlabel('No of finals played')\n",
    "plt.ylabel('No of trials')"
   ]
  },
  {
   "cell_type": "markdown",
   "metadata": {},
   "source": [
    "#### [numpy.random.<font color = 'red'>geometric</font>()](https://docs.scipy.org/doc/numpy-1.16.1/reference/generated/numpy.random.geometric.html#numpy.random.geometric)"
   ]
  },
  {
   "cell_type": "markdown",
   "metadata": {},
   "source": [
    "In dealing with experiments with two possible outcomes, the geometric distribution function models the number of times an experiment must be run before it is successful. Applying this to Mayo's chances of winning their next all-Ireland crown, we can use their current success rate of 0.1875 as a probability, and apply this to the geometric distribution function to see the likely number of attempts they would require to win their next all-Ireland."
   ]
  },
  {
   "cell_type": "code",
   "execution_count": 35,
   "metadata": {},
   "outputs": [
    {
     "data": {
      "text/plain": [
       "Text(0, 0.5, 'No of trials')"
      ]
     },
     "execution_count": 35,
     "metadata": {},
     "output_type": "execute_result"
    },
    {
     "data": {
      "image/png": "[encoded data removed]",
      "text/plain": [
       "<Figure size 1152x576 with 1 Axes>"
      ]
     },
     "metadata": {
      "needs_background": "light"
     },
     "output_type": "display_data"
    }
   ],
   "source": [
    "# Model the number of attempts Mayo will need to make at winning their next All-Ireland final. Run the model 100 times\n",
    "No_of_attempts = np.random.geometric(0.1875, 100)\n",
    "plt.hist(No_of_attempts)\n",
    "plt.title ('Geometric distribution, p:0.1875, Size:100')\n",
    "plt.xlabel('No of finals played')\n",
    "plt.ylabel('No of trials')"
   ]
  },
  {
   "cell_type": "markdown",
   "metadata": {},
   "source": [
    "<font color = 'red'>Note:</font> This is only considering they reach the final in the first place. Looking at Mayo's recent record of reaching the final, they have been to 6 finals in the last 20 years. "
   ]
  },
  {
   "cell_type": "code",
   "execution_count": 36,
   "metadata": {},
   "outputs": [
    {
     "data": {
      "text/plain": [
       "0.67"
      ]
     },
     "execution_count": 36,
     "metadata": {},
     "output_type": "execute_result"
    }
   ],
   "source": [
    "(No_of_attempts <= 6).sum() / 100"
   ]
  },
  {
   "cell_type": "markdown",
   "metadata": {},
   "source": [
    "So, the good news for Mayo fans is that they have a 70% winning their next All Ireland final within the next 20 years. Perhaps **we WILL see Mayo win an All-Ireland in our lifetime!**"
   ]
  },
  {
   "cell_type": "markdown",
   "metadata": {},
   "source": [
    "#### [numpy.random.<font color = 'red'>negative_binomial</font>()](https://docs.scipy.org/doc/numpy-1.16.1/reference/generated/numpy.random.negative_binomial.html#numpy.random.negative_binomial)"
   ]
  },
  {
   "cell_type": "markdown",
   "metadata": {},
   "source": [
    "The Geometric distribution has given us hope that we may live to see May win another football All Ireland. Another means of prediction can be gained by drawing samples from the negative binomial distribution. "
   ]
  },
  {
   "cell_type": "code",
   "execution_count": 37,
   "metadata": {
    "scrolled": false
   },
   "outputs": [
    {
     "data": {
      "text/plain": [
       "Text(0, 0.5, 'No of trials')"
      ]
     },
     "execution_count": 37,
     "metadata": {},
     "output_type": "execute_result"
    },
    {
     "data": {
      "image/png": "[encoded data removed]",
      "text/plain": [
       "<Figure size 1152x576 with 1 Axes>"
      ]
     },
     "metadata": {
      "needs_background": "light"
     },
     "output_type": "display_data"
    }
   ],
   "source": [
    "# From Mayo's record in their 16 finals, the probability of winning in 0.1875.\n",
    "# Show the negative binomial distribution for a win, using a probability of 0.1875. Run the model 1000 times\n",
    "s = np.random.negative_binomial(1, 0.1875, 1000)\n",
    "plt.hist(s)\n",
    "plt.title ('Negative binomial distribution: n: 1, p:0.1875, N:1000')\n",
    "plt.xlabel('No of finals played')\n",
    "plt.ylabel('No of trials')"
   ]
  },
  {
   "cell_type": "code",
   "execution_count": 38,
   "metadata": {},
   "outputs": [
    {
     "name": "stdout",
     "output_type": "stream",
     "text": [
      "1 finals played, probability of one success = 0.2\n",
      "2 finals played, probability of one success = 0.377\n",
      "3 finals played, probability of one success = 0.487\n",
      "4 finals played, probability of one success = 0.574\n",
      "5 finals played, probability of one success = 0.667\n",
      "6 finals played, probability of one success = 0.735\n"
     ]
    }
   ],
   "source": [
    "# Print the probability of 1 final success in each of the next 6 attempts\n",
    "for i in range(1, 7):\n",
    "   probability = sum(s<i) / 1000.\n",
    "   print(i, \"finals played, probability of one success =\", probability)"
   ]
  },
  {
   "cell_type": "markdown",
   "metadata": {},
   "source": [
    "#### [numpy.random.<font color = 'red'>f</font>()](https://docs.scipy.org/doc/numpy-1.16.1/reference/generated/numpy.random.f.html#numpy.random.f)"
   ]
  },
  {
   "cell_type": "markdown",
   "metadata": {},
   "source": [
    "The F-distribution, also known as the Snedecor's F-distribution or the Fisher-Snedecor distribution (after R.A. Fisher and George W. Snedecor), is the distribution of ratios of two independent estimators of the population variances.[8] In this course, we are already familiar with Robert Fisher and the Iris dataset for which he delevoped.<br>\n",
    "Below, we will use the F-test with the Iris dataset to compare the means of various groups (ie Iris types) and determine if they are equal by looking at their variances. We can do this be checking the variations between the groups and within the groups."
   ]
  },
  {
   "cell_type": "markdown",
   "metadata": {},
   "source": [
    "<center>F-statistic = variance between groups / variance within groups</center>"
   ]
  },
  {
   "cell_type": "code",
   "execution_count": 39,
   "metadata": {},
   "outputs": [
    {
     "data": {
      "text/html": [
       "<div>\n",
       "<style scoped>\n",
       "    .dataframe tbody tr th:only-of-type {\n",
       "        vertical-align: middle;\n",
       "    }\n",
       "\n",
       "    .dataframe tbody tr th {\n",
       "        vertical-align: top;\n",
       "    }\n",
       "\n",
       "    .dataframe thead th {\n",
       "        text-align: right;\n",
       "    }\n",
       "</style>\n",
       "<table border=\"1\" class=\"dataframe\">\n",
       "  <thead>\n",
       "    <tr style=\"text-align: right;\">\n",
       "      <th></th>\n",
       "      <th>sepal_length</th>\n",
       "      <th>sepal_width</th>\n",
       "      <th>petal_length</th>\n",
       "      <th>petal_width</th>\n",
       "      <th>species</th>\n",
       "    </tr>\n",
       "  </thead>\n",
       "  <tbody>\n",
       "    <tr>\n",
       "      <th>0</th>\n",
       "      <td>5.1</td>\n",
       "      <td>3.5</td>\n",
       "      <td>1.4</td>\n",
       "      <td>0.2</td>\n",
       "      <td>setosa</td>\n",
       "    </tr>\n",
       "    <tr>\n",
       "      <th>1</th>\n",
       "      <td>4.9</td>\n",
       "      <td>3.0</td>\n",
       "      <td>1.4</td>\n",
       "      <td>0.2</td>\n",
       "      <td>setosa</td>\n",
       "    </tr>\n",
       "    <tr>\n",
       "      <th>2</th>\n",
       "      <td>4.7</td>\n",
       "      <td>3.2</td>\n",
       "      <td>1.3</td>\n",
       "      <td>0.2</td>\n",
       "      <td>setosa</td>\n",
       "    </tr>\n",
       "    <tr>\n",
       "      <th>3</th>\n",
       "      <td>4.6</td>\n",
       "      <td>3.1</td>\n",
       "      <td>1.5</td>\n",
       "      <td>0.2</td>\n",
       "      <td>setosa</td>\n",
       "    </tr>\n",
       "    <tr>\n",
       "      <th>4</th>\n",
       "      <td>5.0</td>\n",
       "      <td>3.6</td>\n",
       "      <td>1.4</td>\n",
       "      <td>0.2</td>\n",
       "      <td>setosa</td>\n",
       "    </tr>\n",
       "  </tbody>\n",
       "</table>\n",
       "</div>"
      ],
      "text/plain": [
       "   sepal_length  sepal_width  petal_length  petal_width species\n",
       "0           5.1          3.5           1.4          0.2  setosa\n",
       "1           4.9          3.0           1.4          0.2  setosa\n",
       "2           4.7          3.2           1.3          0.2  setosa\n",
       "3           4.6          3.1           1.5          0.2  setosa\n",
       "4           5.0          3.6           1.4          0.2  setosa"
      ]
     },
     "execution_count": 39,
     "metadata": {},
     "output_type": "execute_result"
    }
   ],
   "source": [
    "# Read the Iris dataset from the Data subfolder\n",
    "df=pd.read_csv(\"Data/Iris.csv\")\n",
    "# Check the head\n",
    "df.head()"
   ]
  },
  {
   "cell_type": "code",
   "execution_count": 40,
   "metadata": {},
   "outputs": [
    {
     "data": {
      "text/html": [
       "<div>\n",
       "<style scoped>\n",
       "    .dataframe tbody tr th:only-of-type {\n",
       "        vertical-align: middle;\n",
       "    }\n",
       "\n",
       "    .dataframe tbody tr th {\n",
       "        vertical-align: top;\n",
       "    }\n",
       "\n",
       "    .dataframe thead th {\n",
       "        text-align: right;\n",
       "    }\n",
       "</style>\n",
       "<table border=\"1\" class=\"dataframe\">\n",
       "  <thead>\n",
       "    <tr style=\"text-align: right;\">\n",
       "      <th></th>\n",
       "      <th>sepal_length</th>\n",
       "      <th>sepal_width</th>\n",
       "      <th>petal_length</th>\n",
       "      <th>petal_width</th>\n",
       "      <th>species</th>\n",
       "    </tr>\n",
       "  </thead>\n",
       "  <tbody>\n",
       "    <tr>\n",
       "      <th>145</th>\n",
       "      <td>6.7</td>\n",
       "      <td>3.0</td>\n",
       "      <td>5.2</td>\n",
       "      <td>2.3</td>\n",
       "      <td>virginica</td>\n",
       "    </tr>\n",
       "    <tr>\n",
       "      <th>146</th>\n",
       "      <td>6.3</td>\n",
       "      <td>2.5</td>\n",
       "      <td>5.0</td>\n",
       "      <td>1.9</td>\n",
       "      <td>virginica</td>\n",
       "    </tr>\n",
       "    <tr>\n",
       "      <th>147</th>\n",
       "      <td>6.5</td>\n",
       "      <td>3.0</td>\n",
       "      <td>5.2</td>\n",
       "      <td>2.0</td>\n",
       "      <td>virginica</td>\n",
       "    </tr>\n",
       "    <tr>\n",
       "      <th>148</th>\n",
       "      <td>6.2</td>\n",
       "      <td>3.4</td>\n",
       "      <td>5.4</td>\n",
       "      <td>2.3</td>\n",
       "      <td>virginica</td>\n",
       "    </tr>\n",
       "    <tr>\n",
       "      <th>149</th>\n",
       "      <td>5.9</td>\n",
       "      <td>3.0</td>\n",
       "      <td>5.1</td>\n",
       "      <td>1.8</td>\n",
       "      <td>virginica</td>\n",
       "    </tr>\n",
       "  </tbody>\n",
       "</table>\n",
       "</div>"
      ],
      "text/plain": [
       "     sepal_length  sepal_width  petal_length  petal_width    species\n",
       "145           6.7          3.0           5.2          2.3  virginica\n",
       "146           6.3          2.5           5.0          1.9  virginica\n",
       "147           6.5          3.0           5.2          2.0  virginica\n",
       "148           6.2          3.4           5.4          2.3  virginica\n",
       "149           5.9          3.0           5.1          1.8  virginica"
      ]
     },
     "execution_count": 40,
     "metadata": {},
     "output_type": "execute_result"
    }
   ],
   "source": [
    "# Check the tail\n",
    "df.tail()"
   ]
  },
  {
   "cell_type": "code",
   "execution_count": 41,
   "metadata": {},
   "outputs": [
    {
     "data": {
      "text/html": [
       "<div>\n",
       "<style scoped>\n",
       "    .dataframe tbody tr th:only-of-type {\n",
       "        vertical-align: middle;\n",
       "    }\n",
       "\n",
       "    .dataframe tbody tr th {\n",
       "        vertical-align: top;\n",
       "    }\n",
       "\n",
       "    .dataframe thead th {\n",
       "        text-align: right;\n",
       "    }\n",
       "</style>\n",
       "<table border=\"1\" class=\"dataframe\">\n",
       "  <thead>\n",
       "    <tr style=\"text-align: right;\">\n",
       "      <th></th>\n",
       "      <th>sepal_length</th>\n",
       "      <th>sepal_width</th>\n",
       "      <th>petal_length</th>\n",
       "      <th>petal_width</th>\n",
       "    </tr>\n",
       "  </thead>\n",
       "  <tbody>\n",
       "    <tr>\n",
       "      <th>count</th>\n",
       "      <td>150.000000</td>\n",
       "      <td>150.000000</td>\n",
       "      <td>150.000000</td>\n",
       "      <td>150.000000</td>\n",
       "    </tr>\n",
       "    <tr>\n",
       "      <th>mean</th>\n",
       "      <td>5.843333</td>\n",
       "      <td>3.054000</td>\n",
       "      <td>3.758667</td>\n",
       "      <td>1.198667</td>\n",
       "    </tr>\n",
       "    <tr>\n",
       "      <th>std</th>\n",
       "      <td>0.828066</td>\n",
       "      <td>0.433594</td>\n",
       "      <td>1.764420</td>\n",
       "      <td>0.763161</td>\n",
       "    </tr>\n",
       "    <tr>\n",
       "      <th>min</th>\n",
       "      <td>4.300000</td>\n",
       "      <td>2.000000</td>\n",
       "      <td>1.000000</td>\n",
       "      <td>0.100000</td>\n",
       "    </tr>\n",
       "    <tr>\n",
       "      <th>25%</th>\n",
       "      <td>5.100000</td>\n",
       "      <td>2.800000</td>\n",
       "      <td>1.600000</td>\n",
       "      <td>0.300000</td>\n",
       "    </tr>\n",
       "    <tr>\n",
       "      <th>50%</th>\n",
       "      <td>5.800000</td>\n",
       "      <td>3.000000</td>\n",
       "      <td>4.350000</td>\n",
       "      <td>1.300000</td>\n",
       "    </tr>\n",
       "    <tr>\n",
       "      <th>75%</th>\n",
       "      <td>6.400000</td>\n",
       "      <td>3.300000</td>\n",
       "      <td>5.100000</td>\n",
       "      <td>1.800000</td>\n",
       "    </tr>\n",
       "    <tr>\n",
       "      <th>max</th>\n",
       "      <td>7.900000</td>\n",
       "      <td>4.400000</td>\n",
       "      <td>6.900000</td>\n",
       "      <td>2.500000</td>\n",
       "    </tr>\n",
       "  </tbody>\n",
       "</table>\n",
       "</div>"
      ],
      "text/plain": [
       "       sepal_length  sepal_width  petal_length  petal_width\n",
       "count    150.000000   150.000000    150.000000   150.000000\n",
       "mean       5.843333     3.054000      3.758667     1.198667\n",
       "std        0.828066     0.433594      1.764420     0.763161\n",
       "min        4.300000     2.000000      1.000000     0.100000\n",
       "25%        5.100000     2.800000      1.600000     0.300000\n",
       "50%        5.800000     3.000000      4.350000     1.300000\n",
       "75%        6.400000     3.300000      5.100000     1.800000\n",
       "max        7.900000     4.400000      6.900000     2.500000"
      ]
     },
     "execution_count": 41,
     "metadata": {},
     "output_type": "execute_result"
    }
   ],
   "source": [
    "# View the overall statistical summary of the dataset\n",
    "df.describe()"
   ]
  },
  {
   "cell_type": "code",
   "execution_count": 42,
   "metadata": {},
   "outputs": [
    {
     "data": {
      "text/plain": [
       "Text(0, 0.5, '[Length in cm]')"
      ]
     },
     "execution_count": 42,
     "metadata": {},
     "output_type": "execute_result"
    },
    {
     "data": {
      "image/png": "[encoded data removed]",
      "text/plain": [
       "<Figure size 1152x576 with 1 Axes>"
      ]
     },
     "metadata": {
      "needs_background": "light"
     },
     "output_type": "display_data"
    }
   ],
   "source": [
    "# Select petal_width and species columns only\n",
    "df1 = df.loc[:,['petal_width', 'species']]\n",
    "# Plot the sepal lengths of each specie\n",
    "df1.boxplot(by = 'species')\n",
    "plt.ylabel(\"[Length in cm]\")"
   ]
  },
  {
   "cell_type": "markdown",
   "metadata": {},
   "source": [
    "We will use the F-test to see if the mean values of petal width for each specie of Iris are statisitcally different from the others"
   ]
  },
  {
   "cell_type": "code",
   "execution_count": 43,
   "metadata": {},
   "outputs": [
    {
     "data": {
      "text/plain": [
       "F_onewayResult(statistic=array([959.32440573]), pvalue=array([4.37695696e-85]))"
      ]
     },
     "execution_count": 43,
     "metadata": {},
     "output_type": "execute_result"
    }
   ],
   "source": [
    "# Calculate the F-statistic [9]\n",
    "import scipy.stats as stats\n",
    "Setosa = df.loc[0:49, ['petal_width']]\n",
    "Versicolor = df.loc[50:99, ['petal_width']]\n",
    "Virginica = df.loc[100:149, ['petal_width']]\n",
    "stats.f_oneway(Setosa, Versicolor, Virginica)"
   ]
  },
  {
   "cell_type": "markdown",
   "metadata": {},
   "source": [
    "Our hypothesis is this case is that all the means of the groups are statistically equal.If this is to be true, we should have a F-statistic near 1.0 ie the variance between the groups shouls be very close to the variance within the groups. With a F-statistic of 959 and a probability of 4 e-85 for petal width, we can say that this hypothesis is NOT true."
   ]
  },
  {
   "cell_type": "code",
   "execution_count": 46,
   "metadata": {},
   "outputs": [
    {
     "data": {
      "image/png": "[encoded data removed]",
      "text/plain": [
       "<Figure size 1152x576 with 1 Axes>"
      ]
     },
     "metadata": {
      "needs_background": "light"
     },
     "output_type": "display_data"
    }
   ],
   "source": [
    "# Let's look at the f function for this particular data\n",
    "# Import the F function\n",
    "from scipy.stats import f, norm\n",
    "\n",
    "# F-distribution parameters\n",
    "dfn = 2 # = k - 1, where k = number of comparison groups \n",
    "dfd = 147 # N - k, where N = Total number of observations\n",
    "\n",
    "# Apply the F function, with 95% confidence\n",
    "rejection_reg = f.ppf(q=.95, dfn=dfn, dfd=dfd)\n",
    "mean, var, skew, kurt = f.stats(dfn, dfd, moments='mvsk')\n",
    "    \n",
    "x = np.linspace(f.ppf(0.01, dfn, dfd), f.ppf(0.99, dfn, dfd), 100)\n",
    "    \n",
    "# Plot values\n",
    "plt.plot(x, f.pdf(x, dfn, dfd), alpha=0.6, label=' X ~ F({}, {})'.format(dfn, dfd))\n",
    "plt.vlines(rejection_reg, 0.0, 1.0, linestyles=\"dashdot\", label=\"Crit. Value: {:.2f}\".format(rejection_reg))\n",
    "plt.legend()\n",
    "plt.title('F-Distribution dfn:{}, dfd:{}'.format(dfn, dfd))\n",
    "plt.xlabel('F-statistic')\n",
    "plt.show()"
   ]
  },
  {
   "cell_type": "markdown",
   "metadata": {},
   "source": [
    "Looking at the f distribution for this data, using a 95% confidence interval, we can say that for our hypothesis to be true, we would need to be getting an F-statistic of < 3.06. We are getting a value of 959."
   ]
  },
  {
   "cell_type": "markdown",
   "metadata": {},
   "source": [
    "#### [numpy.random.<font color = 'red'>multinominal</font>()](https://docs.scipy.org/doc/numpy-1.16.1/reference/generated/numpy.random.multinomial.html#numpy.random.multinomial)"
   ]
  },
  {
   "cell_type": "markdown",
   "metadata": {},
   "source": [
    "Whereas the binomial distribution deals with experiments which have 1 of 2 possible outcomes, the multinominal distribution deals with experiments with one of p possible outcomes. Rolling a dice would be an example where there are 6 possible outcomes"
   ]
  },
  {
   "cell_type": "code",
   "execution_count": 76,
   "metadata": {},
   "outputs": [
    {
     "name": "stdout",
     "output_type": "stream",
     "text": [
      "[[0 0 0 0 0 1]]\n"
     ]
    }
   ],
   "source": [
    "# perform the multinominal distribution on rolling a dice 5 times.\n",
    "x = np.random.multinomial(1, [1/6.]*6, size=1)\n",
    "print(x) \n",
    "# The output will show the random outcome from a roll of the dice"
   ]
  },
  {
   "cell_type": "code",
   "execution_count": 73,
   "metadata": {},
   "outputs": [
    {
     "name": "stdout",
     "output_type": "stream",
     "text": [
      "[[3 4 3 3 6 1]]\n"
     ]
    },
    {
     "data": {
      "image/png": "[encoded data removed]",
      "text/plain": [
       "<Figure size 1152x576 with 1 Axes>"
      ]
     },
     "metadata": {
      "needs_background": "light"
     },
     "output_type": "display_data"
    }
   ],
   "source": [
    "# plot the multinominal distribution for rolling a dice 20 times\n",
    "x = np.random.multinomial(20, [1/6.]*6, size=1)\n",
    "print(x)\n",
    "plt.hist(x)\n",
    "plt.title('multinominal distribution, n:20, p1/6, size:1')\n",
    "plt.xlabel('No of times of experiments')\n",
    "plt.ylabel('No of trials')\n",
    "plt.show()\n",
    "# The output will show random number of results for each posible outcome from 20 rolls of the dice"
   ]
  },
  {
   "cell_type": "code",
   "execution_count": 77,
   "metadata": {},
   "outputs": [
    {
     "data": {
      "image/png": "[encoded data removed]",
      "text/plain": [
       "<Figure size 1152x576 with 1 Axes>"
      ]
     },
     "metadata": {
      "needs_background": "light"
     },
     "output_type": "display_data"
    }
   ],
   "source": [
    "# plot the multinominal distribution for rolling a dice 20 times, and completing this experiment for 1000 trials\n",
    "x = np.random.multinomial(20, [1/6.]*6, size=1000)\n",
    "plt.hist(x)\n",
    "plt.title('multinominal distribution, n:20, p1/6, size:1000')\n",
    "plt.xlabel('No of times of experiments')\n",
    "plt.ylabel('No of trials')\n",
    "plt.show()\n",
    "# The output will show multinominal distribution for 20 rolls of the dice, repeated for 1000 trials"
   ]
  },
  {
   "cell_type": "markdown",
   "metadata": {},
   "source": [
    "### References"
   ]
  },
  {
   "cell_type": "markdown",
   "metadata": {},
   "source": [
    "1. https://www.howtogeek.com/183051/htg-explains-how-computers-generate-random-numbers/\n",
    "2. https://www.geeksforgeeks.org/pseudo-random-number-generator-prng/\n",
    "3. https://docs.scipy.org/doc/numpy-1.16.1/reference/routines.random.html\n",
    "4. https://stackoverflow.com/questions/40689152/what-does-replacement-mean-in-numpy-random-choice\n",
    "5. https://stackoverflow.com/questions/15474159/shuffle-vs-permute-numpy\n",
    "6. https://en.wikipedia.org/wiki/Binomial_distribution\n",
    "7. https://en.wikipedia.org/wiki/List_of_All-Ireland_Senior_Football_Championship_finals\n",
    "8. https://explorable.com/f-distribution\n",
    "9. https://medium.com/@rrfd/f-tests-and-anovas-examples-with-the-iris-dataset-fe7caa3e21d0"
   ]
  },
  {
   "cell_type": "code",
   "execution_count": null,
   "metadata": {},
   "outputs": [],
   "source": []
  },
  {
   "cell_type": "code",
   "execution_count": null,
   "metadata": {},
   "outputs": [],
   "source": []
  }
 ],
 "metadata": {
  "kernelspec": {
   "display_name": "Python 3",
   "language": "python",
   "name": "python3"
  },
  "language_info": {
   "codemirror_mode": {
    "name": "ipython",
    "version": 3
   },
   "file_extension": ".py",
   "mimetype": "text/x-python",
   "name": "python",
   "nbconvert_exporter": "python",
   "pygments_lexer": "ipython3",
   "version": "3.7.3"
  }
 },
 "nbformat": 4,
 "nbformat_minor": 2
}
