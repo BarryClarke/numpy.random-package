{
 "cells": [
  {
   "cell_type": "markdown",
   "metadata": {},
   "source": [
    "# <center><font color = \"blue\"> The numpy.random package </font></center>"
   ]
  },
  {
   "cell_type": "markdown",
   "metadata": {},
   "source": [
    "### <center><font color = \"green\"> Author: Barry Clarke </font></center>"
   ]
  },
  {
   "cell_type": "markdown",
   "metadata": {},
   "source": [
    "### <center><font color = \"green\"> Course: Programming for Data Analysis (Sept 2019) </font></center>"
   ]
  },
  {
   "cell_type": "code",
   "execution_count": 1,
   "metadata": {},
   "outputs": [],
   "source": [
    "## Load the numpy library required for this notebook\n",
    "import numpy as np\n",
    "import matplotlib.pyplot as plt"
   ]
  },
  {
   "cell_type": "markdown",
   "metadata": {},
   "source": [
    "### 1. Description and purpose of the numpy.random package"
   ]
  },
  {
   "cell_type": "markdown",
   "metadata": {},
   "source": [
    "numpy.random package is a sub-package within the NumPy package used for generating pseudorandom numbers. This is an important function for any data simulation and allows a data analyst to create appropriate and meaningful data for the particular test at hand."
   ]
  },
  {
   "cell_type": "markdown",
   "metadata": {},
   "source": [
    "### 2. Simple random data"
   ]
  },
  {
   "cell_type": "markdown",
   "metadata": {},
   "source": [
    "Within this section, various types of random data can be produced depending on the function called. Simple random data covers the basic data ararys and distributions used for data generation "
   ]
  },
  {
   "cell_type": "markdown",
   "metadata": {},
   "source": [
    "#### 2.1 numpy.random.<font color = 'red'>rand</font>(d0, d1, d2,.....dn)"
   ]
  },
  {
   "cell_type": "markdown",
   "metadata": {},
   "source": [
    "Parameters: d0, d1, d2,......dn are int, optional"
   ]
  },
  {
   "cell_type": "markdown",
   "metadata": {},
   "source": [
    "This function produces a random sample from a uniform distribution over [0, 1)]. ie a number between 0 and 1, where any \n",
    "number has an equal probability of being created (uniform distribution). The \"[\"] implies 0 is exclusive, whereas\n",
    "the \")\"implies the 1 is inclusive."
   ]
  },
  {
   "cell_type": "code",
   "execution_count": 2,
   "metadata": {},
   "outputs": [
    {
     "data": {
      "text/plain": [
       "0.4238951877746572"
      ]
     },
     "execution_count": 2,
     "metadata": {},
     "output_type": "execute_result"
    }
   ],
   "source": [
    "# To produce one piece of random data, use:\n",
    "np.random.rand()"
   ]
  },
  {
   "cell_type": "code",
   "execution_count": 3,
   "metadata": {},
   "outputs": [
    {
     "data": {
      "text/plain": [
       "array([[0.21508448, 0.73961836],\n",
       "       [0.38033531, 0.8222198 ],\n",
       "       [0.57211519, 0.19883618]])"
      ]
     },
     "execution_count": 3,
     "metadata": {},
     "output_type": "execute_result"
    }
   ],
   "source": [
    "# This function can be further defined by\n",
    "np.random.rand(3, 2)\n",
    "# where an array (3 rows and 2 columns) of numbers between 0 and 1 with uniform distribution can be generated. This is\n",
    "# essentially and array containing 3 other arrays, each of 2 elements"
   ]
  },
  {
   "cell_type": "code",
   "execution_count": 4,
   "metadata": {},
   "outputs": [
    {
     "data": {
      "text/plain": [
       "array([[[0.19972555, 0.54297785],\n",
       "        [0.88766102, 0.06046706]],\n",
       "\n",
       "       [[0.35156221, 0.09761725],\n",
       "        [0.9991874 , 0.12400935]],\n",
       "\n",
       "       [[0.78884241, 0.44344882],\n",
       "        [0.80866114, 0.8624471 ]]])"
      ]
     },
     "execution_count": 4,
     "metadata": {},
     "output_type": "execute_result"
    }
   ],
   "source": [
    "# Again, the function can be further expanded depending on the number of parameters given in the input\n",
    "np.random.rand(3, 2, 2)\n",
    "# Here, and array of 3 seperate arrays, each containing 2 arrays, with 2 elements in each array. It can be decribed as an\n",
    "# 3D object or as an array containing 3 arrays, each of 2 rows and 2 columns. Uisng this, you can expand to 4D, 5D,...."
   ]
  },
  {
   "cell_type": "markdown",
   "metadata": {},
   "source": [
    "As seen above, the np.random.rand function produces random 'floats' between 0 (exclusive) and 1 (inclusive) in a 'uniform distribution', and depending on what is selected within the round brackets, different array structures are produced. Although the elements are random numbers, everthing else is very rigid and specified ie They are floats, they must be between 0 and 1, and they must be produced with a uniform distribution. There are many other simple random data you may wish to produce that don't fit the above criteria, rather other criteria."
   ]
  },
  {
   "cell_type": "markdown",
   "metadata": {},
   "source": [
    "#### 2.2 numpy.random.<font color = 'red'>randn</font>(d0, d1, d2,.....dn)"
   ]
  },
  {
   "cell_type": "markdown",
   "metadata": {},
   "source": [
    "Parameters: d0, d1, d2,......dn are int, optional"
   ]
  },
  {
   "cell_type": "markdown",
   "metadata": {},
   "source": [
    "The 'randn' function returns random floats of 'normal' (Gaussian) distribution of mean 0 and variance 1.\n",
    "Note: the Variance of 1 does NOT mean a value of 1, rather it is the expectation of the squared deviation of a random\n",
    "variable from the mean from its mean"
   ]
  },
  {
   "cell_type": "code",
   "execution_count": 5,
   "metadata": {},
   "outputs": [
    {
     "data": {
      "text/plain": [
       "array([[ 0.10829142,  1.00803762],\n",
       "       [-1.4074656 , -1.34187618],\n",
       "       [ 1.78958825, -0.86846335]])"
      ]
     },
     "execution_count": 5,
     "metadata": {},
     "output_type": "execute_result"
    }
   ],
   "source": [
    "np.random.randn(3,2)"
   ]
  },
  {
   "cell_type": "markdown",
   "metadata": {},
   "source": [
    "<font color = red>Note:</font>\n",
    "We will deal with different distributions later, but for now we will highlight the difference between a uniform distribution and a normal (gaussian) distribution, just to get you thinking about the choice of many different random scatter you may want to create to best represent the random data you want for your simulation"
   ]
  },
  {
   "cell_type": "code",
   "execution_count": 6,
   "metadata": {},
   "outputs": [
    {
     "data": {
      "image/png": "[encoded data removed]",
      "text/plain": [
       "<Figure size 1152x576 with 2 Axes>"
      ]
     },
     "metadata": {
      "needs_background": "light"
     },
     "output_type": "display_data"
    }
   ],
   "source": [
    "# Select 1000 random samples using the rand function\n",
    "x = np.random.rand(1000)\n",
    "# Produce 1000 random samples using the randn function\n",
    "y = np.random.randn(1000)\n",
    "# Plot the results of each, by histogram, side by side for comparison\n",
    "plt.rcParams['figure.figsize'] = (16,8)\n",
    "plt.subplot(1,2,1)\n",
    "plt.hist(x)\n",
    "plt.title('np.random.rand(1000)', size=20)\n",
    "plt.xlabel('Element value', size=15)\n",
    "plt.ylabel('Number of elements', size=15)\n",
    "\n",
    "plt.subplot(1,2,2)\n",
    "plt.hist(y)\n",
    "plt.title('np.random.randn(1000)', size=20)\n",
    "plt.xlabel('Element value', size=15)\n",
    "plt.ylabel('Number of elements', size=15)\n",
    "\n",
    "plt.show()"
   ]
  },
  {
   "cell_type": "markdown",
   "metadata": {},
   "source": [
    "Comparing the above distributions, we see that a uniform distribution roughly produces and eaqual number of elements at all values across the range, whereas a normal (Gaussian) distribution produces a bell shaped distribution of elements. So, this highlights two of the basic distributions you can generate for random data you require. What is important to remember is that, as data scientist, you will want to generate random data with specific distributions to best match the analsyis you are making. Knowing the different distribution to use for your purpose is an important tool."
   ]
  },
  {
   "cell_type": "markdown",
   "metadata": {},
   "source": [
    "#### 2.3 numpy.random.<font color = 'red'>randint</font>(low, high=None, size=None, dtype=\"l\")"
   ]
  },
  {
   "cell_type": "markdown",
   "metadata": {},
   "source": [
    "Parameters: low is the lowest integer of the distribution (except when High is not stated, then the distribution is \"[0,Low) ].\n",
    "            High is an optional parameter and, if stated, the distribution is [Low, High].\n",
    "            Size is the structure of the output ie single point or array.\n",
    "            dtype is the desired dtype of the result (eg int64, int, etc)."
   ]
  },
  {
   "cell_type": "markdown",
   "metadata": {},
   "source": [
    "The randint function will output randon integers from the discrete uniform distribution in the range defined of the specified dtype"
   ]
  },
  {
   "cell_type": "code",
   "execution_count": 16,
   "metadata": {},
   "outputs": [
    {
     "data": {
      "text/plain": [
       "0"
      ]
     },
     "execution_count": 16,
     "metadata": {},
     "output_type": "execute_result"
    }
   ],
   "source": [
    "# At very least, the \"Low\" parameter must be defined\n",
    "np.random.randint(5)\n",
    "# In this case, 5 in  the only parameter in the brackets. This must mean it is the low parameter, so the distribution must\n",
    "# be [0,5)"
   ]
  },
  {
   "cell_type": "code",
   "execution_count": 8,
   "metadata": {},
   "outputs": [
    {
     "data": {
      "text/plain": [
       "7"
      ]
     },
     "execution_count": 8,
     "metadata": {},
     "output_type": "execute_result"
    }
   ],
   "source": [
    "np.random.randint(3,8)\n",
    "# With tw parameters defined, it mean the random integer will be in the distribution of (Low, High]"
   ]
  },
  {
   "cell_type": "code",
   "execution_count": 9,
   "metadata": {},
   "outputs": [
    {
     "data": {
      "text/plain": [
       "array([7, 7, 7, 6, 6])"
      ]
     },
     "execution_count": 9,
     "metadata": {},
     "output_type": "execute_result"
    }
   ],
   "source": [
    "np.random.randint(3,8,size=5)\n",
    "# This declares the size of the array or nomber of variables produced"
   ]
  },
  {
   "cell_type": "code",
   "execution_count": 10,
   "metadata": {},
   "outputs": [
    {
     "data": {
      "text/plain": [
       "array([[4, 7, 3, 7],\n",
       "       [3, 7, 7, 7],\n",
       "       [7, 5, 7, 7],\n",
       "       [3, 5, 4, 6],\n",
       "       [5, 5, 7, 3]])"
      ]
     },
     "execution_count": 10,
     "metadata": {},
     "output_type": "execute_result"
    }
   ],
   "source": [
    "np.random.randint(3,8,size=(5,4))"
   ]
  },
  {
   "cell_type": "code",
   "execution_count": 11,
   "metadata": {},
   "outputs": [
    {
     "data": {
      "text/plain": [
       "array([[7, 4, 6, 4],\n",
       "       [7, 7, 6, 7],\n",
       "       [5, 4, 4, 7],\n",
       "       [4, 7, 4, 4],\n",
       "       [3, 4, 4, 4]], dtype=int64)"
      ]
     },
     "execution_count": 11,
     "metadata": {},
     "output_type": "execute_result"
    }
   ],
   "source": [
    "np.random.randint(3,8,size=(5,4),dtype=\"int64\")"
   ]
  },
  {
   "cell_type": "code",
   "execution_count": 12,
   "metadata": {},
   "outputs": [
    {
     "data": {
      "image/png": "[encoded data removed]",
      "text/plain": [
       "<Figure size 1152x576 with 1 Axes>"
      ]
     },
     "metadata": {
      "needs_background": "light"
     },
     "output_type": "display_data"
    }
   ],
   "source": [
    " # Produce a histogram for the distribution [0,10) of a randint function of 1000 random variables\n",
    "x = np.random.randint(10,size=1000)\n",
    "plt.hist(x)\n",
    "plt.title('np.random.randint(10,size=1000)', size=20)\n",
    "plt.xlabel('Element value', size=15)\n",
    "plt.ylabel('Number of elements', size=15)\n",
    "plt.show()"
   ]
  },
  {
   "cell_type": "code",
   "execution_count": 13,
   "metadata": {},
   "outputs": [
    {
     "data": {
      "text/plain": [
       "array([[4, 6, 3, 4],\n",
       "       [5, 7, 4, 7],\n",
       "       [7, 7, 5, 7],\n",
       "       [6, 4, 6, 7],\n",
       "       [7, 6, 4, 7]])"
      ]
     },
     "execution_count": 13,
     "metadata": {},
     "output_type": "execute_result"
    }
   ],
   "source": [
    "np.random.randint(3,8,size=(5,4))"
   ]
  },
  {
   "cell_type": "markdown",
   "metadata": {},
   "source": [
    "#### 2.4 numpy.random.<font color = 'red'>random_integers</font>(low, high=None, size=None)"
   ]
  },
  {
   "cell_type": "markdown",
   "metadata": {},
   "source": [
    "numpy.random.random_integers is a similar function to numpy.random.randint with two small differences\n",
    "    1. If the high value is omitted, the interval is [1, low]\n",
    "    2. The interval is closed ie high and low are both inclusive"
   ]
  },
  {
   "cell_type": "code",
   "execution_count": 22,
   "metadata": {},
   "outputs": [
    {
     "data": {
      "text/plain": [
       "array([2, 3, 0, 3, 3, 1, 0, 3, 3, 0])"
      ]
     },
     "execution_count": 22,
     "metadata": {},
     "output_type": "execute_result"
    }
   ],
   "source": [
    "# Example\n",
    "np.random.randint(4, size=10)\n",
    "# For random.randint, high is omitted, so interval is [0,Low) ie 0 inclusive, Low exclusive"
   ]
  },
  {
   "cell_type": "code",
   "execution_count": 23,
   "metadata": {},
   "outputs": [
    {
     "data": {
      "text/plain": [
       "array([2, 4, 3, 4, 1, 2, 1, 2, 1, 4])"
      ]
     },
     "execution_count": 23,
     "metadata": {},
     "output_type": "execute_result"
    }
   ],
   "source": [
    "import warnings \n",
    "warnings.filterwarnings(\"ignore\", category=DeprecationWarning)\n",
    "# For random_integers, high is omitted, so interval is [1,Low] ie 1 inclusive, Low inclusive\n",
    "np.random.random_integers(4, size=10)"
   ]
  },
  {
   "cell_type": "markdown",
   "metadata": {},
   "source": [
    "#### 2.5 numpy.random.<font color = 'red'>random_sample</font>(size=None)"
   ]
  },
  {
   "cell_type": "markdown",
   "metadata": {},
   "source": [
    "The random_sample function will output floats in the half-open interval [0.0, 1.0)] with a continuous uniform distribution"
   ]
  },
  {
   "cell_type": "code",
   "execution_count": 25,
   "metadata": {},
   "outputs": [
    {
     "data": {
      "text/plain": [
       "0.2700626468100079"
      ]
     },
     "execution_count": 25,
     "metadata": {},
     "output_type": "execute_result"
    }
   ],
   "source": [
    "np.random.random_sample()"
   ]
  },
  {
   "cell_type": "code",
   "execution_count": 26,
   "metadata": {},
   "outputs": [
    {
     "data": {
      "text/plain": [
       "array([0.4915727 , 0.35357268, 0.79778786, 0.11654542, 0.35821064])"
      ]
     },
     "execution_count": 26,
     "metadata": {},
     "output_type": "execute_result"
    }
   ],
   "source": [
    "np.random.random_sample(5)"
   ]
  },
  {
   "cell_type": "code",
   "execution_count": 27,
   "metadata": {},
   "outputs": [
    {
     "data": {
      "text/plain": [
       "array([[0.31094286, 0.66268306],\n",
       "       [0.89112593, 0.77697274],\n",
       "       [0.46956029, 0.18916404]])"
      ]
     },
     "execution_count": 27,
     "metadata": {},
     "output_type": "execute_result"
    }
   ],
   "source": [
    "np.random.random_sample((3,2))"
   ]
  },
  {
   "cell_type": "markdown",
   "metadata": {},
   "source": [
    "<font color = red>Note:</font> random_sample can also be referred to as random, ranf or sample"
   ]
  },
  {
   "cell_type": "code",
   "execution_count": null,
   "metadata": {},
   "outputs": [],
   "source": []
  }
 ],
 "metadata": {
  "kernelspec": {
   "display_name": "Python 3",
   "language": "python",
   "name": "python3"
  },
  "language_info": {
   "codemirror_mode": {
    "name": "ipython",
    "version": 3
   },
   "file_extension": ".py",
   "mimetype": "text/x-python",
   "name": "python",
   "nbconvert_exporter": "python",
   "pygments_lexer": "ipython3",
   "version": "3.7.3"
  }
 },
 "nbformat": 4,
 "nbformat_minor": 2
}
