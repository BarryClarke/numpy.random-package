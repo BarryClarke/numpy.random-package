{
 "cells": [
  {
   "cell_type": "markdown",
   "metadata": {},
   "source": [
    "# <center><font color = \"blue\"> The numpy.random package </font></center>"
   ]
  },
  {
   "cell_type": "markdown",
   "metadata": {},
   "source": [
    "### <center><font color = \"green\"> Author: Barry Clarke </font></center>"
   ]
  },
  {
   "cell_type": "markdown",
   "metadata": {},
   "source": [
    "### <center><font color = \"green\"> Course: Programming for Data Analysis (Sept 2019) </font></center>"
   ]
  },
  {
   "cell_type": "code",
   "execution_count": 1,
   "metadata": {},
   "outputs": [],
   "source": [
    "## Load the numpy library required for this notebook\n",
    "import numpy as np\n",
    "import matplotlib.pyplot as plt"
   ]
  },
  {
   "cell_type": "markdown",
   "metadata": {},
   "source": [
    "### 1. Description and purpose of the numpy.random package"
   ]
  },
  {
   "cell_type": "markdown",
   "metadata": {},
   "source": [
    "numpy.random package is a sub-package within the NumPy package used for generating pseudorandom numbers. This is an important function for any data simulation and allows a data analyst to create appropriate and meaningful data for the particular test at hand."
   ]
  },
  {
   "cell_type": "markdown",
   "metadata": {},
   "source": [
    "### 2. Simple random data"
   ]
  },
  {
   "cell_type": "markdown",
   "metadata": {},
   "source": [
    "Within this section, various types of random data can be produced depending on the function called. Simple random data covers the basic data ararys and distributions used for data generation "
   ]
  },
  {
   "cell_type": "markdown",
   "metadata": {},
   "source": [
    "#### 2.1 numpy.random.<font color = 'red'>rand</font>(d0, d1, d2,.....dn)"
   ]
  },
  {
   "cell_type": "markdown",
   "metadata": {},
   "source": [
    "Parameters: d0, d1, d2,......dn are int, optional"
   ]
  },
  {
   "cell_type": "markdown",
   "metadata": {},
   "source": [
    "This function produces a random sample from a uniform distribution over [0, 1)]. ie a number between 0 and 1, where any \n",
    "number has an equal probability of being created (uniform distribution). The \"[\"] implies 0 is exclusive, whereas\n",
    "the \")\"implies the 1 is inclusive."
   ]
  },
  {
   "cell_type": "code",
   "execution_count": 2,
   "metadata": {},
   "outputs": [
    {
     "data": {
      "text/plain": [
       "0.832746559091645"
      ]
     },
     "execution_count": 2,
     "metadata": {},
     "output_type": "execute_result"
    }
   ],
   "source": [
    "# To produce one piece of random data, use:\n",
    "np.random.rand()"
   ]
  },
  {
   "cell_type": "code",
   "execution_count": 3,
   "metadata": {},
   "outputs": [
    {
     "data": {
      "text/plain": [
       "array([[0.48936806, 0.69772768],\n",
       "       [0.3324002 , 0.5315858 ],\n",
       "       [0.98315623, 0.87189619]])"
      ]
     },
     "execution_count": 3,
     "metadata": {},
     "output_type": "execute_result"
    }
   ],
   "source": [
    "# This function can be further defined by\n",
    "np.random.rand(3, 2)\n",
    "# where an array (3 rows and 2 columns) of numbers between 0 and 1 with uniform distribution can be generated. This is\n",
    "# essentially and array containing 3 other arrays, each of 2 elements"
   ]
  },
  {
   "cell_type": "code",
   "execution_count": 4,
   "metadata": {},
   "outputs": [
    {
     "data": {
      "text/plain": [
       "array([[[0.87898382, 0.56586039],\n",
       "        [0.16774264, 0.70030676]],\n",
       "\n",
       "       [[0.5252805 , 0.92174376],\n",
       "        [0.04120165, 0.52175231]],\n",
       "\n",
       "       [[0.44430669, 0.42773603],\n",
       "        [0.74937506, 0.68128663]]])"
      ]
     },
     "execution_count": 4,
     "metadata": {},
     "output_type": "execute_result"
    }
   ],
   "source": [
    "# Again, the function can be further expanded depending on the number of parameters given in the input\n",
    "np.random.rand(3, 2, 2)\n",
    "# Here, and array of 3 seperate arrays, each containing 2 arrays, with 2 elements in each array. It can be decribed as an\n",
    "# 3D object or as an array containing 3 arrays, each of 2 rows and 2 columns. Uisng this, you can expand to 4D, 5D,...."
   ]
  },
  {
   "cell_type": "markdown",
   "metadata": {},
   "source": [
    "As seen above, the np.random.rand function produces random 'floats' between 0 (exclusive) and 1 (inclusive) in a 'uniform distribution', and depending on what is selected within the round brackets, different array structures are produced. Although the elements are random numbers, everthing else is very rigid and specified ie They are floats, they must be between 0 and 1, and they must be produced with a uniform distribution. There are many other simple random data you may wish to produce that don't fit the above criteria, rather other criteria."
   ]
  },
  {
   "cell_type": "markdown",
   "metadata": {},
   "source": [
    "#### 2.2 numpy.random.<font color = 'red'>randn</font>(d0, d1, d2,.....dn)"
   ]
  },
  {
   "cell_type": "markdown",
   "metadata": {},
   "source": [
    "Parameters: d0, d1, d2,......dn are int, optional"
   ]
  },
  {
   "cell_type": "markdown",
   "metadata": {},
   "source": [
    "The 'randn' function returns random floats of 'normal' (Gaussian) distribution of mean 0 and variance 1.\n",
    "Note: the Variance of 1 does NOT mean a value of 1, rather it is the expectation of the squared deviation of a random\n",
    "variable from the mean from its mean"
   ]
  },
  {
   "cell_type": "code",
   "execution_count": 5,
   "metadata": {},
   "outputs": [
    {
     "data": {
      "text/plain": [
       "array([[-0.41692561, -0.2357555 ],\n",
       "       [ 0.64006701,  0.04151901],\n",
       "       [ 1.01521762, -0.24072371]])"
      ]
     },
     "execution_count": 5,
     "metadata": {},
     "output_type": "execute_result"
    }
   ],
   "source": [
    "np.random.randn(3,2)"
   ]
  },
  {
   "cell_type": "markdown",
   "metadata": {},
   "source": [
    "<font color = red>Note:</font>\n",
    "We will deal with different distributions later, but for now we will highlight the difference between a uniform distribution and a normal (gaussian) distribution, just to get you thinking about the choice of many different random scatter you may want to create to best represent the random data you want for your simulation"
   ]
  },
  {
   "cell_type": "code",
   "execution_count": 6,
   "metadata": {},
   "outputs": [
    {
     "data": {
      "image/png": "[encoded data removed]",
      "text/plain": [
       "<Figure size 1152x576 with 2 Axes>"
      ]
     },
     "metadata": {
      "needs_background": "light"
     },
     "output_type": "display_data"
    }
   ],
   "source": [
    "# Select 1000 random samples using the rand function\n",
    "x = np.random.rand(1000)\n",
    "# Produce 1000 random samples using the randn function\n",
    "y = np.random.randn(1000)\n",
    "# Plot the results of each, by histogram, side by side for comparison\n",
    "plt.rcParams['figure.figsize'] = (16,8)\n",
    "plt.subplot(1,2,1)\n",
    "plt.hist(x)\n",
    "plt.title('np.random.rand(1000)', size=20)\n",
    "plt.xlabel('Element value', size=15)\n",
    "plt.ylabel('Number of elements', size=15)\n",
    "\n",
    "plt.subplot(1,2,2)\n",
    "plt.hist(y)\n",
    "plt.title('np.random.randn(1000)', size=20)\n",
    "plt.xlabel('Element value', size=15)\n",
    "plt.ylabel('Number of elements', size=15)\n",
    "\n",
    "plt.show()"
   ]
  },
  {
   "cell_type": "markdown",
   "metadata": {},
   "source": [
    "Comparing the above distributions, we see that a uniform distribution roughly produces and eaqual number of elements at all values across the range, whereas a normal (Gaussian) distribution produces a bell shaped distribution of elements. So, this highlights two of the basic distributions you can generate for random data you require. What is important to remember is that, as data scientist, you will want to generate random data with specific distributions to best match the analsyis you are making. Knowing the different distribution to use for your purpose is an important tool."
   ]
  },
  {
   "cell_type": "markdown",
   "metadata": {},
   "source": [
    "#### 2.3 numpy.random.<font color = 'red'>randint</font>(low, high=None, size=None, dtype=\"l\")"
   ]
  },
  {
   "cell_type": "markdown",
   "metadata": {},
   "source": [
    "Parameters:<br> \n",
    "* **low** is the lowest integer of the distribution (except when High is not stated, then the distribution is '[0,Low)'<br>\n",
    "* **high** is an optional parameter and, if stated, the distribution is '[Low, High)'<br>\n",
    "* **size** is the structure of the output ie single point or array. Default is None, in which case a single value is returned.<br>\n",
    "* **dtype** is the desired dtype of the result (eg int64, int, etc)"
   ]
  },
  {
   "cell_type": "markdown",
   "metadata": {},
   "source": [
    "The randint function will output randon integers from the discrete uniform distribution in the range defined of the specified dtype"
   ]
  },
  {
   "cell_type": "code",
   "execution_count": 7,
   "metadata": {},
   "outputs": [
    {
     "data": {
      "text/plain": [
       "4"
      ]
     },
     "execution_count": 7,
     "metadata": {},
     "output_type": "execute_result"
    }
   ],
   "source": [
    "# At very least, the \"Low\" parameter must be defined\n",
    "np.random.randint(5)\n",
    "# In this case, 5 in  the only parameter in the brackets. This must mean it is the low parameter, so the distribution must\n",
    "# be [0,5)"
   ]
  },
  {
   "cell_type": "code",
   "execution_count": 8,
   "metadata": {},
   "outputs": [
    {
     "data": {
      "text/plain": [
       "6"
      ]
     },
     "execution_count": 8,
     "metadata": {},
     "output_type": "execute_result"
    }
   ],
   "source": [
    "np.random.randint(3,8)\n",
    "# With tw parameters defined, it mean the random integer will be in the distribution of (Low, High]"
   ]
  },
  {
   "cell_type": "code",
   "execution_count": 9,
   "metadata": {},
   "outputs": [
    {
     "data": {
      "text/plain": [
       "array([3, 7, 4, 3, 5])"
      ]
     },
     "execution_count": 9,
     "metadata": {},
     "output_type": "execute_result"
    }
   ],
   "source": [
    "np.random.randint(3,8,size=5)\n",
    "# This declares the size of the array or nomber of variables produced"
   ]
  },
  {
   "cell_type": "code",
   "execution_count": 10,
   "metadata": {},
   "outputs": [
    {
     "data": {
      "text/plain": [
       "array([[6, 6, 4, 5],\n",
       "       [6, 7, 6, 4],\n",
       "       [5, 6, 4, 4],\n",
       "       [7, 4, 7, 6],\n",
       "       [5, 5, 6, 4]])"
      ]
     },
     "execution_count": 10,
     "metadata": {},
     "output_type": "execute_result"
    }
   ],
   "source": [
    "np.random.randint(3,8,size=(5,4))"
   ]
  },
  {
   "cell_type": "code",
   "execution_count": 11,
   "metadata": {},
   "outputs": [
    {
     "data": {
      "text/plain": [
       "array([[3, 4, 6, 4],\n",
       "       [5, 5, 7, 5],\n",
       "       [7, 4, 5, 5],\n",
       "       [6, 6, 5, 5],\n",
       "       [7, 4, 3, 5]], dtype=int64)"
      ]
     },
     "execution_count": 11,
     "metadata": {},
     "output_type": "execute_result"
    }
   ],
   "source": [
    "np.random.randint(3,8,size=(5,4),dtype=\"int64\")"
   ]
  },
  {
   "cell_type": "code",
   "execution_count": 12,
   "metadata": {},
   "outputs": [
    {
     "data": {
      "image/png": "[encoded data removed]",
      "text/plain": [
       "<Figure size 1152x576 with 1 Axes>"
      ]
     },
     "metadata": {
      "needs_background": "light"
     },
     "output_type": "display_data"
    }
   ],
   "source": [
    " # Produce a histogram for the distribution [0,10) of a randint function of 1000 random variables\n",
    "x = np.random.randint(10,size=1000)\n",
    "plt.hist(x)\n",
    "plt.title('np.random.randint(10,size=1000)', size=20)\n",
    "plt.xlabel('Element value', size=15)\n",
    "plt.ylabel('Number of elements', size=15)\n",
    "plt.show()"
   ]
  },
  {
   "cell_type": "code",
   "execution_count": 13,
   "metadata": {},
   "outputs": [
    {
     "data": {
      "text/plain": [
       "array([[4, 3, 6, 6],\n",
       "       [3, 3, 7, 4],\n",
       "       [4, 3, 5, 6],\n",
       "       [6, 3, 3, 7],\n",
       "       [7, 7, 6, 3]])"
      ]
     },
     "execution_count": 13,
     "metadata": {},
     "output_type": "execute_result"
    }
   ],
   "source": [
    "np.random.randint(3,8,size=(5,4))"
   ]
  },
  {
   "cell_type": "markdown",
   "metadata": {},
   "source": [
    "#### 2.4 numpy.random.<font color = 'red'>random_integers</font>(low, high=None, size=None)"
   ]
  },
  {
   "cell_type": "markdown",
   "metadata": {},
   "source": [
    "Parameters:<br> \n",
    "* **low** is the lowest integer of the distribution (except when High is not stated, then the range of values is [1,Low]<br>\n",
    "* **high** is an optional parameter and, if stated, the range of values is [Low, High]<br>\n",
    "* **size** is the structure of the output ie single point or array. Default is None, in which case a single value is returned."
   ]
  },
  {
   "cell_type": "markdown",
   "metadata": {},
   "source": [
    "<font color = red>Note:</font> numpy.random.random_integers is a similar function to numpy.random.randint with two small differences\n",
    "    1. If the high value is omitted, the interval is [1, low], not '[0, low)'\n",
    "    2. The interval is closed ie high and low are both inclusive"
   ]
  },
  {
   "cell_type": "code",
   "execution_count": 14,
   "metadata": {},
   "outputs": [
    {
     "data": {
      "text/plain": [
       "array([1, 0, 2, 0, 3, 2, 2, 2, 3, 0])"
      ]
     },
     "execution_count": 14,
     "metadata": {},
     "output_type": "execute_result"
    }
   ],
   "source": [
    "# Example\n",
    "np.random.randint(4, size=10)\n",
    "# For random.randint, high is omitted, so interval is [0,Low) ie 0 inclusive, Low exclusive"
   ]
  },
  {
   "cell_type": "code",
   "execution_count": 15,
   "metadata": {},
   "outputs": [
    {
     "data": {
      "text/plain": [
       "array([4, 3, 3, 4, 3, 1, 4, 1, 3, 1])"
      ]
     },
     "execution_count": 15,
     "metadata": {},
     "output_type": "execute_result"
    }
   ],
   "source": [
    "import warnings \n",
    "warnings.filterwarnings(\"ignore\", category=DeprecationWarning)\n",
    "# For random_integers, high is omitted, so interval is [1,Low] ie 1 inclusive, Low inclusive\n",
    "np.random.random_integers(4, size=10)"
   ]
  },
  {
   "cell_type": "markdown",
   "metadata": {},
   "source": [
    "#### 2.5 numpy.random.<font color = 'red'>random_sample</font>(size=None)"
   ]
  },
  {
   "cell_type": "markdown",
   "metadata": {},
   "source": [
    "Parameters:<br>  \n",
    "* **size** is the structure of the output. Can be single point or an array. Default is None, in which case a single value is returned."
   ]
  },
  {
   "cell_type": "markdown",
   "metadata": {},
   "source": [
    "The random_sample function will output floats in the half-open interval [0.0, 1.0)] with a continuous uniform distribution."
   ]
  },
  {
   "cell_type": "code",
   "execution_count": 16,
   "metadata": {},
   "outputs": [
    {
     "data": {
      "text/plain": [
       "0.6254035482914301"
      ]
     },
     "execution_count": 16,
     "metadata": {},
     "output_type": "execute_result"
    }
   ],
   "source": [
    "np.random.random_sample()"
   ]
  },
  {
   "cell_type": "code",
   "execution_count": 17,
   "metadata": {},
   "outputs": [
    {
     "data": {
      "text/plain": [
       "array([0.32900496, 0.11063608, 0.58312309, 0.45179951, 0.65200506])"
      ]
     },
     "execution_count": 17,
     "metadata": {},
     "output_type": "execute_result"
    }
   ],
   "source": [
    "np.random.random_sample(5)"
   ]
  },
  {
   "cell_type": "code",
   "execution_count": 18,
   "metadata": {},
   "outputs": [
    {
     "data": {
      "text/plain": [
       "array([[0.53182775, 0.93789295],\n",
       "       [0.2823675 , 0.00245728],\n",
       "       [0.47699006, 0.08880002]])"
      ]
     },
     "execution_count": 18,
     "metadata": {},
     "output_type": "execute_result"
    }
   ],
   "source": [
    "np.random.random_sample((3,2))"
   ]
  },
  {
   "cell_type": "markdown",
   "metadata": {},
   "source": [
    "<font color = red>Note:</font> random_sample can also be referred to as random, ranf or sample"
   ]
  },
  {
   "cell_type": "markdown",
   "metadata": {},
   "source": [
    "#### 2.5 numpy.random.<font color = 'red'>choice</font>(a, size=None, replace=True, p=None)"
   ]
  },
  {
   "cell_type": "markdown",
   "metadata": {},
   "source": [
    "Parameters:<br> \n",
    "* **a** is either a 1-D array or an integer. If an ndarray, a random sample is generated from its elements. If an int, the random sample is generated as if a were from np.arange(a)<br>\n",
    "* **size** is the output shape. Default is None, in which case a single value is returned. <br>\n",
    "* **replace** is used to control whether the element is returned to the input array or not. Example shown below <br>\n",
    "* **p** lists the probability you would wish each input element to have in being selected for the output. This creates a non-uniform distribution in favour of a biased, user defined distribution"
   ]
  },
  {
   "cell_type": "markdown",
   "metadata": {},
   "source": [
    "This function outputs random sample from a given 1-D array or an integer. The default distribution is uniform, unless the p parameter is utilised"
   ]
  },
  {
   "cell_type": "code",
   "execution_count": 30,
   "metadata": {},
   "outputs": [
    {
     "data": {
      "text/plain": [
       "array([0, 1, 2, 3, 4])"
      ]
     },
     "execution_count": 30,
     "metadata": {},
     "output_type": "execute_result"
    }
   ],
   "source": [
    "np.arange(5)"
   ]
  },
  {
   "cell_type": "code",
   "execution_count": 29,
   "metadata": {},
   "outputs": [
    {
     "data": {
      "text/plain": [
       "0"
      ]
     },
     "execution_count": 29,
     "metadata": {},
     "output_type": "execute_result"
    }
   ],
   "source": [
    "np.random.choice(5)\n",
    "# This will select 1 integer from the np.arange(5)"
   ]
  },
  {
   "cell_type": "code",
   "execution_count": 32,
   "metadata": {},
   "outputs": [
    {
     "data": {
      "text/plain": [
       "array([1, 4, 1])"
      ]
     },
     "execution_count": 32,
     "metadata": {},
     "output_type": "execute_result"
    }
   ],
   "source": [
    "np.random.choice(5, 3)\n",
    "# This will select 3 samples from the np.arange(5)"
   ]
  },
  {
   "cell_type": "markdown",
   "metadata": {},
   "source": [
    "<font color = red>Note:</font> In the above example, 1 is selected twice in the output. This is because, even after being randomly selected, by default this returns it to the input sample. If you wish to omit this from the input sample once it is selected, you make use of the replace parameter "
   ]
  },
  {
   "cell_type": "code",
   "execution_count": 53,
   "metadata": {},
   "outputs": [
    {
     "data": {
      "text/plain": [
       "array([2, 0, 4])"
      ]
     },
     "execution_count": 53,
     "metadata": {},
     "output_type": "execute_result"
    }
   ],
   "source": [
    "np.random.choice(5, 3, replace=False)\n",
    "# By using the replace=False parameter, you are removing this element from the input sample and hence preventing it from\n",
    "# being reselected in the output\n",
    "# https://stackoverflow.com/questions/40689152/what-does-replacement-mean-in-numpy-random-choice"
   ]
  },
  {
   "cell_type": "code",
   "execution_count": 40,
   "metadata": {},
   "outputs": [
    {
     "data": {
      "text/plain": [
       "array([[1, 3, 0],\n",
       "       [2, 4, 5]])"
      ]
     },
     "execution_count": 40,
     "metadata": {},
     "output_type": "execute_result"
    }
   ],
   "source": [
    "np.random.choice(6, (2,3), replace=False)\n",
    "# Further proof of the replace parameter at work here. We already know the input sample is array([0, 1, 2, 3, 4, 5]). By \n",
    "# requesting an output of size 6 and selecting replace=False, we know that each input sample will appear only once in the \n",
    "# output"
   ]
  },
  {
   "cell_type": "code",
   "execution_count": 39,
   "metadata": {},
   "outputs": [
    {
     "data": {
      "text/plain": [
       "array([[2, 3, 1],\n",
       "       [5, 5, 0]])"
      ]
     },
     "execution_count": 39,
     "metadata": {},
     "output_type": "execute_result"
    }
   ],
   "source": [
    "np.random.choice(6, (2,3), replace=True)\n",
    "# However, when the replace parameter is omitted or selected to True, any input element can be reselected again"
   ]
  },
  {
   "cell_type": "code",
   "execution_count": 46,
   "metadata": {},
   "outputs": [
    {
     "data": {
      "text/plain": [
       "array([[0, 4, 0],\n",
       "       [4, 0, 4]], dtype=int64)"
      ]
     },
     "execution_count": 46,
     "metadata": {},
     "output_type": "execute_result"
    }
   ],
   "source": [
    "np.random.choice(6, (2,3), replace=True, p=[0.5, 0, 0, 0.2, 0.3, 0])\n",
    "# Here, we have used the p parameter to attach a specific probability to each of the input elements. For this example\n",
    "# it can be seen that of the input samples array([0, 1, 2, 3, 4, 5]), 1, 2 and 5 all have 0 probability attached to them,\n",
    "# so you will never see these in the output"
   ]
  },
  {
   "cell_type": "markdown",
   "metadata": {},
   "source": [
    "#### 2.6 numpy.random.<font color = 'red'>bytes</font>(length)"
   ]
  },
  {
   "cell_type": "markdown",
   "metadata": {},
   "source": [
    "Parameters: **length** is the number of random bytes"
   ]
  },
  {
   "cell_type": "markdown",
   "metadata": {},
   "source": [
    "This function outputs a string of length **length**"
   ]
  },
  {
   "cell_type": "code",
   "execution_count": 73,
   "metadata": {},
   "outputs": [
    {
     "data": {
      "text/plain": [
       "b'\\xda\\x8dg'"
      ]
     },
     "execution_count": 73,
     "metadata": {},
     "output_type": "execute_result"
    }
   ],
   "source": [
    "np.random.bytes(3)"
   ]
  },
  {
   "cell_type": "markdown",
   "metadata": {},
   "source": [
    "With each of the above, there is a range of default input samples from which you select. However,if you want to used any of these fucntions as a basis for your data generation, only in a different rande, you can \"shift the goalposts\" of this range by incorporating the function within an equation"
   ]
  },
  {
   "cell_type": "code",
   "execution_count": 75,
   "metadata": {},
   "outputs": [
    {
     "data": {
      "text/plain": [
       "array([0.78547396, 0.30124698, 0.24074807, 0.55544859, 0.22853804])"
      ]
     },
     "execution_count": 75,
     "metadata": {},
     "output_type": "execute_result"
    }
   ],
   "source": [
    "np.random.rand(5)\n",
    "# produces an array of 5 numbers between [0, 1) with uniform distribution can be generated"
   ]
  },
  {
   "cell_type": "code",
   "execution_count": 77,
   "metadata": {},
   "outputs": [
    {
     "data": {
      "text/plain": [
       "array([3.49842682, 3.66663052, 3.67893615, 3.6944913 , 3.28954794])"
      ]
     },
     "execution_count": 77,
     "metadata": {},
     "output_type": "execute_result"
    }
   ],
   "source": [
    "np.random.rand(5) + 3\n",
    "# This shifts the uniform distribution to [3, 4) ie [0 + 3, 1 +3)"
   ]
  },
  {
   "cell_type": "code",
   "execution_count": null,
   "metadata": {},
   "outputs": [],
   "source": []
  }
 ],
 "metadata": {
  "kernelspec": {
   "display_name": "Python 3",
   "language": "python",
   "name": "python3"
  },
  "language_info": {
   "codemirror_mode": {
    "name": "ipython",
    "version": 3
   },
   "file_extension": ".py",
   "mimetype": "text/x-python",
   "name": "python",
   "nbconvert_exporter": "python",
   "pygments_lexer": "ipython3",
   "version": "3.7.3"
  }
 },
 "nbformat": 4,
 "nbformat_minor": 2
}
