{
 "cells": [
  {
   "cell_type": "markdown",
   "metadata": {},
   "source": [
    "# <center><font color = \"blue\"> The numpy.random package </font></center>"
   ]
  },
  {
   "cell_type": "markdown",
   "metadata": {},
   "source": [
    "### <center><font color = \"green\"> Author: Barry Clarke </font></center>"
   ]
  },
  {
   "cell_type": "markdown",
   "metadata": {},
   "source": [
    "### <center><font color = \"green\"> Course: Programming for Data Analysis (Sept 2019) </font></center>"
   ]
  },
  {
   "cell_type": "code",
   "execution_count": 1,
   "metadata": {},
   "outputs": [],
   "source": [
    "## Load the numpy library required for this notebook\n",
    "import numpy as np\n",
    "import matplotlib.pyplot as plt"
   ]
  },
  {
   "cell_type": "markdown",
   "metadata": {},
   "source": [
    "### 1. Description and purpose of the numpy.random package"
   ]
  },
  {
   "cell_type": "markdown",
   "metadata": {},
   "source": [
    "numpy.random package is a sub-package within the NumPy package used for generating pseudorandom numbers. This is an important function for any data simulation and allows a data analyst to create appropriate and meaningful data for the particular test at hand."
   ]
  },
  {
   "cell_type": "markdown",
   "metadata": {},
   "source": [
    "### 2. Simple random data"
   ]
  },
  {
   "cell_type": "markdown",
   "metadata": {},
   "source": [
    "Within this section, various types of random data can be produces depending on the function called"
   ]
  },
  {
   "cell_type": "markdown",
   "metadata": {},
   "source": [
    "#### 2.1 np.random.<font color = 'red'>rand</font>(d0, d1, d2,.....dn)"
   ]
  },
  {
   "cell_type": "markdown",
   "metadata": {},
   "source": [
    "Parameters: d0, d1, d2,......dn are int, optional"
   ]
  },
  {
   "cell_type": "markdown",
   "metadata": {},
   "source": [
    "This function produces a random sample from a uniform distribution over [0, 1)]. ie a number between 0 and 1, where any \n",
    "number has an equal probability of being created (uniform distribution). The \"[\"] implies 0 is exclusive, whereas\n",
    "the \")\"implies the 1 is inclusive."
   ]
  },
  {
   "cell_type": "code",
   "execution_count": 2,
   "metadata": {},
   "outputs": [
    {
     "data": {
      "text/plain": [
       "0.7900619596868628"
      ]
     },
     "execution_count": 2,
     "metadata": {},
     "output_type": "execute_result"
    }
   ],
   "source": [
    "# To produce one piece of random data, use:\n",
    "np.random.rand()"
   ]
  },
  {
   "cell_type": "code",
   "execution_count": 3,
   "metadata": {},
   "outputs": [
    {
     "data": {
      "text/plain": [
       "array([[0.15195032, 0.5210138 ],\n",
       "       [0.03148425, 0.24957358],\n",
       "       [0.93362233, 0.63163902]])"
      ]
     },
     "execution_count": 3,
     "metadata": {},
     "output_type": "execute_result"
    }
   ],
   "source": [
    "# This function can be further defined by\n",
    "np.random.rand(3, 2)\n",
    "# where an array (3 rows and 2 columns) of numbers between 0 and 1 with uniform distribution can be generated. This is\n",
    "# essentially and array containing 3 other arrays, each of 2 elements"
   ]
  },
  {
   "cell_type": "code",
   "execution_count": 4,
   "metadata": {},
   "outputs": [
    {
     "data": {
      "text/plain": [
       "array([[[7.43960604e-01, 1.31951375e-02],\n",
       "        [3.64626600e-01, 4.35009013e-01]],\n",
       "\n",
       "       [[5.94640591e-01, 4.75424935e-04],\n",
       "        [2.00558934e-01, 5.43206897e-01]],\n",
       "\n",
       "       [[9.07822583e-01, 2.16853481e-01],\n",
       "        [6.51520532e-01, 6.76495062e-02]]])"
      ]
     },
     "execution_count": 4,
     "metadata": {},
     "output_type": "execute_result"
    }
   ],
   "source": [
    "# Again, the function can be further expanded depending on the number of parameters given in the input\n",
    "np.random.rand(3, 2, 2)\n",
    "# Here, and array of 3 seperate arrays, each containing 2 arrays, with 2 elements in each array. It can be decribed as an\n",
    "# 3D object or as an array containing 3 arrays, each of 2 rows and 2 columns. Uisng this, you can expand to 4D, 5D,...."
   ]
  },
  {
   "cell_type": "markdown",
   "metadata": {},
   "source": [
    "As seen above, the np.random.rand function produces random 'floats' between 0 (exclusive) and 1 (inclusive) in a 'uniform distribution', and depending on what is selected within the round brackets, different array structures are producedAlthough the elements are random numbers, everthing else is very rigid and specified ie They are floats, they must be between 0 and 1, and they must be produced with a uniform distribution. There are many other simple random data you may wish to produce that don't\n",
    "fit the above criteria, rather other criteria."
   ]
  },
  {
   "cell_type": "markdown",
   "metadata": {},
   "source": [
    "#### 2.2 np.random.<font color = 'red'>randn</font>(d0, d1, d2,.....dn)"
   ]
  },
  {
   "cell_type": "markdown",
   "metadata": {},
   "source": [
    "Parameters: d0, d1, d2,......dn are int, optional"
   ]
  },
  {
   "cell_type": "markdown",
   "metadata": {},
   "source": [
    "The 'randn' function returns random floats of 'normal' (Gaussian) distribution of mean 0 and variance 1. So, as with below\n",
    "we get an array of 3 columns and 2 rows, but with random floats ranging from -1 to 1.\n",
    "Note: the Variance of 1 does NOT mean a value of 1, rather it is the expectation of the squared deviation of a random\n",
    "variable from the mean from its mean"
   ]
  },
  {
   "cell_type": "code",
   "execution_count": 5,
   "metadata": {},
   "outputs": [
    {
     "data": {
      "text/plain": [
       "array([[-1.15799525,  0.24974496],\n",
       "       [ 0.29514087,  0.21790293],\n",
       "       [ 0.43458088,  0.81110943]])"
      ]
     },
     "execution_count": 5,
     "metadata": {},
     "output_type": "execute_result"
    }
   ],
   "source": [
    "np.random.randn(3,2)"
   ]
  },
  {
   "cell_type": "markdown",
   "metadata": {},
   "source": [
    "We will deal with different distributions later, but for now we will highlight the difference between a uniform distribution and a normal (gaussian) distribution, just to get you thinking about the choice of many different random scatter you may want to create to best represent the random data you want for your simulation"
   ]
  },
  {
   "cell_type": "code",
   "execution_count": 6,
   "metadata": {},
   "outputs": [
    {
     "data": {
      "image/png": "[encoded data removed]",
      "text/plain": [
       "<Figure size 1152x576 with 2 Axes>"
      ]
     },
     "metadata": {
      "needs_background": "light"
     },
     "output_type": "display_data"
    }
   ],
   "source": [
    "# Select 1000 random samples using the rand function\n",
    "x = np.random.rand(1000)\n",
    "# Produce 1000 random samples using the randn function\n",
    "y = np.random.randn(1000)\n",
    "# Plot the results of each, by histogram, side by side for comparison\n",
    "plt.rcParams['figure.figsize'] = (16,8)\n",
    "plt.subplot(1,2,1)\n",
    "plt.hist(x)\n",
    "plt.title('np.random.rand(1000)', size=20)\n",
    "plt.xlabel('Element value', size=15)\n",
    "plt.ylabel('Number of elements', size=15)\n",
    "\n",
    "plt.subplot(1,2,2)\n",
    "plt.hist(y)\n",
    "plt.title('np.random.randn(1000)', size=20)\n",
    "plt.xlabel('Element value', size=15)\n",
    "plt.ylabel('Number of elements', size=15)\n",
    "\n",
    "plt.show()"
   ]
  },
  {
   "cell_type": "markdown",
   "metadata": {},
   "source": [
    "Comparing the above distributions, we see that a uniform distribution roughly produces and eaqual number of elements at all values across the range, whereas a normal (Gaussian) distribution produces a bell shaped distribution of elements. So, this highlights two of the basic distributions you can generate for random data you require. What is important to remember is that, as data scientist, you will want to generate random data with specific distributions to best match the analsyis you are making. Knowing the different distribution to use for your purpose is an important tool."
   ]
  },
  {
   "cell_type": "markdown",
   "metadata": {},
   "source": [
    "#### 2.3 np.random.<font color = 'red'>randint</font>(low, high=None, size=Nigh, dtype=\"l\")"
   ]
  },
  {
   "cell_type": "markdown",
   "metadata": {},
   "source": [
    "Parameters: low is the lowest integer of the distribution (except when High is not stated, then the distribution is \"[0,Low) ].\n",
    "            High is an optional parameter and, if stated, the distribution is [Low, High].\n",
    "            Size is the structure of the output ie single point or array.\n",
    "            dtype is the desired dtype of the result (eg int64, int, etc)."
   ]
  },
  {
   "cell_type": "markdown",
   "metadata": {},
   "source": [
    "The randint function will output randon integers from the discrete uniform distribution in the range defined of the specified dtype"
   ]
  },
  {
   "cell_type": "code",
   "execution_count": 7,
   "metadata": {},
   "outputs": [
    {
     "data": {
      "text/plain": [
       "0"
      ]
     },
     "execution_count": 7,
     "metadata": {},
     "output_type": "execute_result"
    }
   ],
   "source": [
    "# At very least, the \"Low\" parameter must be defined\n",
    "np.random.randint(5)\n",
    "# In this case, 5 in  the only parameter in the brackets. This must mean it is the low parameter, so the distribution must\n",
    "# be [0,5)"
   ]
  },
  {
   "cell_type": "code",
   "execution_count": 8,
   "metadata": {},
   "outputs": [
    {
     "data": {
      "text/plain": [
       "6"
      ]
     },
     "execution_count": 8,
     "metadata": {},
     "output_type": "execute_result"
    }
   ],
   "source": [
    "np.random.randint(3,8)\n",
    "# With tw parameters defined, it mean the random integer will be in the distribution of (Low, High]"
   ]
  },
  {
   "cell_type": "code",
   "execution_count": 9,
   "metadata": {},
   "outputs": [
    {
     "data": {
      "text/plain": [
       "array([6, 4, 7, 6, 3])"
      ]
     },
     "execution_count": 9,
     "metadata": {},
     "output_type": "execute_result"
    }
   ],
   "source": [
    "np.random.randint(3,8,size=5)\n",
    "# This declares the size of the array or nomber of variables produced"
   ]
  },
  {
   "cell_type": "code",
   "execution_count": 10,
   "metadata": {},
   "outputs": [
    {
     "data": {
      "text/plain": [
       "array([[6, 3, 3, 4],\n",
       "       [6, 5, 7, 6],\n",
       "       [4, 3, 4, 4],\n",
       "       [5, 7, 5, 4],\n",
       "       [3, 3, 3, 3]])"
      ]
     },
     "execution_count": 10,
     "metadata": {},
     "output_type": "execute_result"
    }
   ],
   "source": [
    "np.random.randint(3,8,size=(5,4))"
   ]
  },
  {
   "cell_type": "code",
   "execution_count": 11,
   "metadata": {},
   "outputs": [
    {
     "data": {
      "text/plain": [
       "array([[7, 4, 3, 5],\n",
       "       [5, 7, 4, 3],\n",
       "       [6, 7, 3, 4],\n",
       "       [5, 5, 6, 4],\n",
       "       [7, 4, 3, 3]], dtype=int64)"
      ]
     },
     "execution_count": 11,
     "metadata": {},
     "output_type": "execute_result"
    }
   ],
   "source": [
    "np.random.randint(3,8,size=(5,4),dtype=\"int64\")"
   ]
  },
  {
   "cell_type": "code",
   "execution_count": 12,
   "metadata": {},
   "outputs": [
    {
     "data": {
      "image/png": "[encoded data removed]",
      "text/plain": [
       "<Figure size 1152x576 with 1 Axes>"
      ]
     },
     "metadata": {
      "needs_background": "light"
     },
     "output_type": "display_data"
    }
   ],
   "source": [
    "# If we were to plot the above function on a histogram, \n",
    "# Produce a histogram for the distribution [0,10) of a randint function of 1000 random variables\n",
    "x = np.random.randint(10,size=1000)\n",
    "plt.hist(x)\n",
    "plt.title('np.random.randint(10,size=1000)', size=20)\n",
    "plt.xlabel('Element value', size=15)\n",
    "plt.ylabel('Number of elements', size=15)\n",
    "plt.show()"
   ]
  },
  {
   "cell_type": "code",
   "execution_count": null,
   "metadata": {},
   "outputs": [],
   "source": []
  }
 ],
 "metadata": {
  "kernelspec": {
   "display_name": "Python 3",
   "language": "python",
   "name": "python3"
  },
  "language_info": {
   "codemirror_mode": {
    "name": "ipython",
    "version": 3
   },
   "file_extension": ".py",
   "mimetype": "text/x-python",
   "name": "python",
   "nbconvert_exporter": "python",
   "pygments_lexer": "ipython3",
   "version": "3.7.3"
  }
 },
 "nbformat": 4,
 "nbformat_minor": 2
}
